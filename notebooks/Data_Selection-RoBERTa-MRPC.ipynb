{
 "cells": [
  {
   "cell_type": "markdown",
   "metadata": {},
   "source": [
    "# Data Selection - RoBERTA, MRPC\n",
    "This script trains the RoBERTA model on the entire training dataset and calculates all three types of Influence Values, which are stored in a JSON file.\n",
    "\n",
    "It later creates new dataloaders from selected data subsets and trains on those dataloaders multiple times to get confidence interval of the accuracy score.\n",
    "\n",
    "**NOTE:** You can change the `task` variable to run this script for other tasks. It is set to mrpc by default.\n",
    "\n",
    "Modified from `notebooks\\Mislabeled_Data_Detection-RoBERTa-MRPC.ipynb`."
   ]
  },
  {
   "cell_type": "markdown",
   "metadata": {},
   "source": [
    "## SET-UP"
   ]
  },
  {
   "cell_type": "code",
   "execution_count": null,
   "metadata": {},
   "outputs": [],
   "source": [
    "import pickle \n",
    "import sys\n",
    "sys.path.append('../src')\n",
    "from dataloader import create_dataloaders\n",
    "from lora_model import LORAEngine\n",
    "from influence import IFEngine\n",
    "\n",
    "import numpy as np\n",
    "from matplotlib import pyplot as plt\n",
    "from torch.utils.data import DataLoader\n",
    "\n",
    "import warnings\n",
    "warnings.filterwarnings(\"ignore\")"
   ]
  },
  {
   "cell_type": "code",
   "execution_count": null,
   "metadata": {},
   "outputs": [],
   "source": [
    "NUM_RUNS = 5\n",
    "model_name_or_path=\"roberta-large\"\n",
    "task=\"mrpc\" #qnli,qqp, sst2\n",
    "noise_ratio=0\n",
    "batch_size=32\n",
    "target_modules=[\"value\"]\n",
    "device=\"cuda\"\n",
    "num_epochs=10\n",
    "lr=3e-4\n",
    "low_rank=4\n",
    "\n",
    "results_dict = {'identity': [],\n",
    "                'proposed': [],\n",
    "                'LiSSA': [],\n",
    "                'full': [],\n",
    "                'random': []}\n",
    "\n",
    "display_names = {\n",
    "    \"identity\": \"Hessian-free\",\n",
    "    \"full\": \"Full\",\n",
    "    \"proposed\": \"DataInf\",\n",
    "    \"random\": \"Random\",\n",
    "    \"LiSSA\": \"LiSSA\"\n",
    "}"
   ]
  },
  {
   "cell_type": "markdown",
   "metadata": {},
   "source": [
    "## Full training"
   ]
  },
  {
   "cell_type": "code",
   "execution_count": null,
   "metadata": {},
   "outputs": [],
   "source": [
    "dataloader_outputs = create_dataloaders(model_name_or_path=model_name_or_path,\n",
    "                                           task=task,\n",
    "                                           noise_ratio=noise_ratio,\n",
    "                                           batch_size=batch_size)\n",
    "\n",
    "train_dataloader, eval_dataloader, noise_index, tokenized_datasets, collate_fn=dataloader_outputs\n",
    "\n",
    "lora_engine = LORAEngine(model_name_or_path=model_name_or_path,\n",
    "                            target_modules=target_modules,\n",
    "                            train_dataloader=train_dataloader,\n",
    "                            eval_dataloader=eval_dataloader,\n",
    "                            device=device,\n",
    "                            num_epochs=num_epochs,\n",
    "                            lr=lr,\n",
    "                            low_rank=low_rank, \n",
    "                            task=task)\n",
    "\n",
    "lora_engine.build_LORA_model()\n",
    "results = lora_engine.train_LORA_model()"
   ]
  },
  {
   "cell_type": "markdown",
   "metadata": {},
   "source": [
    "## Calculate influence values"
   ]
  },
  {
   "cell_type": "code",
   "execution_count": 1,
   "metadata": {},
   "outputs": [
    {
     "name": "stderr",
     "output_type": "stream",
     "text": [
      "c:\\Users\\jafar\\OneDrive\\Desktop\\phd\\DataInf\\.env\\lib\\site-packages\\tqdm\\auto.py:21: TqdmWarning: IProgress not found. Please update jupyter and ipywidgets. See https://ipywidgets.readthedocs.io/en/stable/user_install.html\n",
      "  from .autonotebook import tqdm as notebook_tqdm\n",
      "Some weights of RobertaForSequenceClassification were not initialized from the model checkpoint at roberta-large and are newly initialized: ['classifier.dense.bias', 'classifier.dense.weight', 'classifier.out_proj.bias', 'classifier.out_proj.weight']\n",
      "You should probably TRAIN this model on a down-stream task to be able to use it for predictions and inference.\n"
     ]
    },
    {
     "name": "stdout",
     "output_type": "stream",
     "text": [
      "trainable params: 2,299,908 || all params: 356,610,052 || trainable%: 0.6449363911929212\n"
     ]
    },
    {
     "name": "stderr",
     "output_type": "stream",
     "text": [
      "  0%|          | 0/115 [00:00<?, ?it/s]You're using a RobertaTokenizerFast tokenizer. Please note that with a fast tokenizer, using the `__call__` method is faster than using a method to encode the text followed by a call to the `pad` method to get a padded encoding.\n",
      "100%|██████████| 115/115 [00:59<00:00,  1.94it/s]\n",
      "100%|██████████| 13/13 [00:03<00:00,  3.93it/s]\n"
     ]
    },
    {
     "name": "stdout",
     "output_type": "stream",
     "text": [
      "Epoch 1: {'accuracy': 0.7034313725490197, 'f1': 0.815267175572519}\n"
     ]
    },
    {
     "name": "stderr",
     "output_type": "stream",
     "text": [
      "100%|██████████| 115/115 [01:00<00:00,  1.89it/s]\n",
      "100%|██████████| 13/13 [00:03<00:00,  3.93it/s]\n"
     ]
    },
    {
     "name": "stdout",
     "output_type": "stream",
     "text": [
      "Epoch 2: {'accuracy': 0.7745098039215687, 'f1': 0.8408304498269896}\n"
     ]
    },
    {
     "name": "stderr",
     "output_type": "stream",
     "text": [
      "100%|██████████| 115/115 [01:00<00:00,  1.89it/s]\n",
      "100%|██████████| 13/13 [00:03<00:00,  3.85it/s]\n"
     ]
    },
    {
     "name": "stdout",
     "output_type": "stream",
     "text": [
      "Epoch 3: {'accuracy': 0.7671568627450981, 'f1': 0.810379241516966}\n"
     ]
    },
    {
     "name": "stderr",
     "output_type": "stream",
     "text": [
      "100%|██████████| 115/115 [01:01<00:00,  1.88it/s]\n",
      "100%|██████████| 13/13 [00:03<00:00,  3.86it/s]\n"
     ]
    },
    {
     "name": "stdout",
     "output_type": "stream",
     "text": [
      "Epoch 4: {'accuracy': 0.8480392156862745, 'f1': 0.8884892086330936}\n"
     ]
    },
    {
     "name": "stderr",
     "output_type": "stream",
     "text": [
      "100%|██████████| 115/115 [01:01<00:00,  1.88it/s]\n",
      "100%|██████████| 13/13 [00:03<00:00,  3.86it/s]\n"
     ]
    },
    {
     "name": "stdout",
     "output_type": "stream",
     "text": [
      "Epoch 5: {'accuracy': 0.8651960784313726, 'f1': 0.9056603773584906}\n"
     ]
    },
    {
     "name": "stderr",
     "output_type": "stream",
     "text": [
      "100%|██████████| 115/115 [01:02<00:00,  1.85it/s]\n",
      "100%|██████████| 13/13 [00:03<00:00,  3.73it/s]\n"
     ]
    },
    {
     "name": "stdout",
     "output_type": "stream",
     "text": [
      "Epoch 6: {'accuracy': 0.8651960784313726, 'f1': 0.896421845574388}\n"
     ]
    },
    {
     "name": "stderr",
     "output_type": "stream",
     "text": [
      "100%|██████████| 115/115 [01:02<00:00,  1.83it/s]\n",
      "100%|██████████| 13/13 [00:03<00:00,  3.76it/s]\n"
     ]
    },
    {
     "name": "stdout",
     "output_type": "stream",
     "text": [
      "Epoch 7: {'accuracy': 0.875, 'f1': 0.9094138543516874}\n"
     ]
    },
    {
     "name": "stderr",
     "output_type": "stream",
     "text": [
      "100%|██████████| 115/115 [01:02<00:00,  1.85it/s]\n",
      "100%|██████████| 13/13 [00:03<00:00,  3.85it/s]\n"
     ]
    },
    {
     "name": "stdout",
     "output_type": "stream",
     "text": [
      "Epoch 8: {'accuracy': 0.8676470588235294, 'f1': 0.9021739130434783}\n"
     ]
    },
    {
     "name": "stderr",
     "output_type": "stream",
     "text": [
      "100%|██████████| 115/115 [01:02<00:00,  1.85it/s]\n",
      "100%|██████████| 13/13 [00:03<00:00,  3.88it/s]\n"
     ]
    },
    {
     "name": "stdout",
     "output_type": "stream",
     "text": [
      "Epoch 9: {'accuracy': 0.8725490196078431, 'f1': 0.9064748201438849}\n"
     ]
    },
    {
     "name": "stderr",
     "output_type": "stream",
     "text": [
      "100%|██████████| 115/115 [01:01<00:00,  1.86it/s]\n",
      "100%|██████████| 13/13 [00:03<00:00,  3.82it/s]\n"
     ]
    },
    {
     "name": "stdout",
     "output_type": "stream",
     "text": [
      "Epoch 10: {'accuracy': 0.8676470588235294, 'f1': 0.9039145907473309}\n"
     ]
    },
    {
     "name": "stderr",
     "output_type": "stream",
     "text": [
      "100%|██████████| 3668/3668 [02:03<00:00, 29.72it/s]\n",
      "100%|██████████| 408/408 [00:15<00:00, 26.52it/s]\n"
     ]
    }
   ],
   "source": [
    "tr_grad_dict, val_grad_dict = lora_engine.compute_gradient(tokenized_datasets, collate_fn)\n",
    "\n",
    "influence_engine = IFEngine()\n",
    "influence_engine.preprocess_gradients(tr_grad_dict, val_grad_dict, noise_index)\n",
    "influence_engine.compute_hvps(compute_accurate=False)\n",
    "influence_engine.compute_IF()\n",
    "\n",
    "with open('IF_dict.pkl', 'wb') as f:\n",
    "    pickle.dump(influence_engine.IF_dict, f)\n",
    "\n",
    "influence_engine.IF_dict[\"random\"] = np.random.uniform(low=0.0, high=1.0, size=len(influence_engine.IF_dict[\"proposed\"]))\n",
    "\n",
    "data_loaders = {}\n",
    "for method, scores in influence_engine.IF_dict.items():\n",
    "    filtered_ids = np.where(scores > np.percentile(scores, 20))[0]\n",
    "    filtered_train_dataset = tokenized_datasets[\"train\"].select(filtered_ids)\n",
    "    filtered_train_dataloader = DataLoader(filtered_train_dataset,\n",
    "                                            shuffle=True, \n",
    "                                            collate_fn=collate_fn,\n",
    "                                            batch_size=batch_size)\n",
    "    data_loaders[method] = filtered_train_dataloader \n",
    "\n",
    "data_loaders[\"full\"] = train_dataloader"
   ]
  },
  {
   "cell_type": "markdown",
   "metadata": {},
   "source": [
    "## DataInf, Hessian-free, LiSSA, Random, and Full training"
   ]
  },
  {
   "cell_type": "code",
   "execution_count": 4,
   "metadata": {},
   "outputs": [
    {
     "name": "stderr",
     "output_type": "stream",
     "text": [
      "Some weights of RobertaForSequenceClassification were not initialized from the model checkpoint at roberta-large and are newly initialized: ['classifier.dense.bias', 'classifier.dense.weight', 'classifier.out_proj.bias', 'classifier.out_proj.weight']\n",
      "You should probably TRAIN this model on a down-stream task to be able to use it for predictions and inference.\n"
     ]
    },
    {
     "name": "stdout",
     "output_type": "stream",
     "text": [
      "trainable params: 2,299,908 || all params: 356,610,052 || trainable%: 0.6449363911929212\n"
     ]
    },
    {
     "name": "stderr",
     "output_type": "stream",
     "text": [
      "100%|██████████| 92/92 [00:45<00:00,  2.00it/s]\n",
      "100%|██████████| 13/13 [00:03<00:00,  4.12it/s]\n"
     ]
    },
    {
     "name": "stdout",
     "output_type": "stream",
     "text": [
      "Epoch 1: {'accuracy': 0.6838235294117647, 'f1': 0.8122270742358079}\n"
     ]
    },
    {
     "name": "stderr",
     "output_type": "stream",
     "text": [
      "100%|██████████| 92/92 [00:47<00:00,  1.95it/s]\n",
      "100%|██████████| 13/13 [00:03<00:00,  3.97it/s]\n"
     ]
    },
    {
     "name": "stdout",
     "output_type": "stream",
     "text": [
      "Epoch 2: {'accuracy': 0.7083333333333334, 'f1': 0.8221225710014948}\n"
     ]
    },
    {
     "name": "stderr",
     "output_type": "stream",
     "text": [
      "100%|██████████| 92/92 [00:48<00:00,  1.92it/s]\n",
      "100%|██████████| 13/13 [00:03<00:00,  3.89it/s]\n"
     ]
    },
    {
     "name": "stdout",
     "output_type": "stream",
     "text": [
      "Epoch 3: {'accuracy': 0.7450980392156863, 'f1': 0.8409785932721713}\n"
     ]
    },
    {
     "name": "stderr",
     "output_type": "stream",
     "text": [
      "100%|██████████| 92/92 [00:48<00:00,  1.89it/s]\n",
      "100%|██████████| 13/13 [00:03<00:00,  3.97it/s]\n"
     ]
    },
    {
     "name": "stdout",
     "output_type": "stream",
     "text": [
      "Epoch 4: {'accuracy': 0.7524509803921569, 'f1': 0.8448540706605223}\n"
     ]
    },
    {
     "name": "stderr",
     "output_type": "stream",
     "text": [
      "100%|██████████| 92/92 [00:48<00:00,  1.90it/s]\n",
      "100%|██████████| 13/13 [00:03<00:00,  3.91it/s]\n"
     ]
    },
    {
     "name": "stdout",
     "output_type": "stream",
     "text": [
      "Epoch 5: {'accuracy': 0.7916666666666666, 'f1': 0.8661417322834646}\n"
     ]
    },
    {
     "name": "stderr",
     "output_type": "stream",
     "text": [
      "100%|██████████| 92/92 [00:48<00:00,  1.88it/s]\n",
      "100%|██████████| 13/13 [00:03<00:00,  3.80it/s]\n"
     ]
    },
    {
     "name": "stdout",
     "output_type": "stream",
     "text": [
      "Epoch 6: {'accuracy': 0.7916666666666666, 'f1': 0.8661417322834646}\n"
     ]
    },
    {
     "name": "stderr",
     "output_type": "stream",
     "text": [
      "100%|██████████| 92/92 [00:48<00:00,  1.90it/s]\n",
      "100%|██████████| 13/13 [00:03<00:00,  3.83it/s]\n"
     ]
    },
    {
     "name": "stdout",
     "output_type": "stream",
     "text": [
      "Epoch 7: {'accuracy': 0.8063725490196079, 'f1': 0.8731942215088283}\n"
     ]
    },
    {
     "name": "stderr",
     "output_type": "stream",
     "text": [
      "100%|██████████| 92/92 [00:48<00:00,  1.89it/s]\n",
      "100%|██████████| 13/13 [00:03<00:00,  3.79it/s]\n"
     ]
    },
    {
     "name": "stdout",
     "output_type": "stream",
     "text": [
      "Epoch 8: {'accuracy': 0.8161764705882353, 'f1': 0.8784440842787682}\n"
     ]
    },
    {
     "name": "stderr",
     "output_type": "stream",
     "text": [
      "100%|██████████| 92/92 [00:48<00:00,  1.89it/s]\n",
      "100%|██████████| 13/13 [00:03<00:00,  3.83it/s]\n"
     ]
    },
    {
     "name": "stdout",
     "output_type": "stream",
     "text": [
      "Epoch 9: {'accuracy': 0.8137254901960784, 'f1': 0.8778135048231511}\n"
     ]
    },
    {
     "name": "stderr",
     "output_type": "stream",
     "text": [
      "100%|██████████| 92/92 [00:49<00:00,  1.87it/s]\n",
      "100%|██████████| 13/13 [00:03<00:00,  3.84it/s]\n"
     ]
    },
    {
     "name": "stdout",
     "output_type": "stream",
     "text": [
      "Epoch 10: {'accuracy': 0.8088235294117647, 'f1': 0.8753993610223643}\n"
     ]
    },
    {
     "name": "stderr",
     "output_type": "stream",
     "text": [
      "Some weights of RobertaForSequenceClassification were not initialized from the model checkpoint at roberta-large and are newly initialized: ['classifier.dense.bias', 'classifier.dense.weight', 'classifier.out_proj.bias', 'classifier.out_proj.weight']\n",
      "You should probably TRAIN this model on a down-stream task to be able to use it for predictions and inference.\n"
     ]
    },
    {
     "name": "stdout",
     "output_type": "stream",
     "text": [
      "trainable params: 2,299,908 || all params: 356,610,052 || trainable%: 0.6449363911929212\n"
     ]
    },
    {
     "name": "stderr",
     "output_type": "stream",
     "text": [
      "100%|██████████| 92/92 [00:49<00:00,  1.87it/s]\n",
      "100%|██████████| 13/13 [00:03<00:00,  3.79it/s]\n"
     ]
    },
    {
     "name": "stdout",
     "output_type": "stream",
     "text": [
      "Epoch 1: {'accuracy': 0.6838235294117647, 'f1': 0.8122270742358079}\n"
     ]
    },
    {
     "name": "stderr",
     "output_type": "stream",
     "text": [
      "100%|██████████| 92/92 [00:48<00:00,  1.88it/s]\n",
      "100%|██████████| 13/13 [00:03<00:00,  3.79it/s]\n"
     ]
    },
    {
     "name": "stdout",
     "output_type": "stream",
     "text": [
      "Epoch 2: {'accuracy': 0.6838235294117647, 'f1': 0.8122270742358079}\n"
     ]
    },
    {
     "name": "stderr",
     "output_type": "stream",
     "text": [
      "100%|██████████| 92/92 [00:48<00:00,  1.88it/s]\n",
      "100%|██████████| 13/13 [00:03<00:00,  3.84it/s]\n"
     ]
    },
    {
     "name": "stdout",
     "output_type": "stream",
     "text": [
      "Epoch 3: {'accuracy': 0.8014705882352942, 'f1': 0.8656716417910447}\n"
     ]
    },
    {
     "name": "stderr",
     "output_type": "stream",
     "text": [
      "100%|██████████| 92/92 [00:48<00:00,  1.88it/s]\n",
      "100%|██████████| 13/13 [00:03<00:00,  3.81it/s]\n"
     ]
    },
    {
     "name": "stdout",
     "output_type": "stream",
     "text": [
      "Epoch 4: {'accuracy': 0.7990196078431373, 'f1': 0.867741935483871}\n"
     ]
    },
    {
     "name": "stderr",
     "output_type": "stream",
     "text": [
      "100%|██████████| 92/92 [00:49<00:00,  1.87it/s]\n",
      "100%|██████████| 13/13 [00:03<00:00,  3.88it/s]\n"
     ]
    },
    {
     "name": "stdout",
     "output_type": "stream",
     "text": [
      "Epoch 5: {'accuracy': 0.7892156862745098, 'f1': 0.8639240506329114}\n"
     ]
    },
    {
     "name": "stderr",
     "output_type": "stream",
     "text": [
      "100%|██████████| 92/92 [00:49<00:00,  1.87it/s]\n",
      "100%|██████████| 13/13 [00:03<00:00,  3.82it/s]\n"
     ]
    },
    {
     "name": "stdout",
     "output_type": "stream",
     "text": [
      "Epoch 6: {'accuracy': 0.7990196078431373, 'f1': 0.8694267515923567}\n"
     ]
    },
    {
     "name": "stderr",
     "output_type": "stream",
     "text": [
      "100%|██████████| 92/92 [00:49<00:00,  1.87it/s]\n",
      "100%|██████████| 13/13 [00:03<00:00,  3.86it/s]\n"
     ]
    },
    {
     "name": "stdout",
     "output_type": "stream",
     "text": [
      "Epoch 7: {'accuracy': 0.8406862745098039, 'f1': 0.8936170212765957}\n"
     ]
    },
    {
     "name": "stderr",
     "output_type": "stream",
     "text": [
      "100%|██████████| 92/92 [00:49<00:00,  1.87it/s]\n",
      "100%|██████████| 13/13 [00:03<00:00,  3.85it/s]\n"
     ]
    },
    {
     "name": "stdout",
     "output_type": "stream",
     "text": [
      "Epoch 8: {'accuracy': 0.8284313725490197, 'f1': 0.8859934853420195}\n"
     ]
    },
    {
     "name": "stderr",
     "output_type": "stream",
     "text": [
      "100%|██████████| 92/92 [00:49<00:00,  1.86it/s]\n",
      "100%|██████████| 13/13 [00:03<00:00,  3.80it/s]\n"
     ]
    },
    {
     "name": "stdout",
     "output_type": "stream",
     "text": [
      "Epoch 9: {'accuracy': 0.8235294117647058, 'f1': 0.883495145631068}\n"
     ]
    },
    {
     "name": "stderr",
     "output_type": "stream",
     "text": [
      "100%|██████████| 92/92 [00:49<00:00,  1.87it/s]\n",
      "100%|██████████| 13/13 [00:03<00:00,  3.83it/s]\n"
     ]
    },
    {
     "name": "stdout",
     "output_type": "stream",
     "text": [
      "Epoch 10: {'accuracy': 0.8186274509803921, 'f1': 0.8806451612903226}\n"
     ]
    },
    {
     "name": "stderr",
     "output_type": "stream",
     "text": [
      "Some weights of RobertaForSequenceClassification were not initialized from the model checkpoint at roberta-large and are newly initialized: ['classifier.dense.bias', 'classifier.dense.weight', 'classifier.out_proj.bias', 'classifier.out_proj.weight']\n",
      "You should probably TRAIN this model on a down-stream task to be able to use it for predictions and inference.\n"
     ]
    },
    {
     "name": "stdout",
     "output_type": "stream",
     "text": [
      "trainable params: 2,299,908 || all params: 356,610,052 || trainable%: 0.6449363911929212\n"
     ]
    },
    {
     "name": "stderr",
     "output_type": "stream",
     "text": [
      "100%|██████████| 92/92 [00:48<00:00,  1.88it/s]\n",
      "100%|██████████| 13/13 [00:03<00:00,  3.76it/s]\n"
     ]
    },
    {
     "name": "stdout",
     "output_type": "stream",
     "text": [
      "Epoch 1: {'accuracy': 0.6838235294117647, 'f1': 0.8122270742358079}\n"
     ]
    },
    {
     "name": "stderr",
     "output_type": "stream",
     "text": [
      "100%|██████████| 92/92 [00:49<00:00,  1.87it/s]\n",
      "100%|██████████| 13/13 [00:03<00:00,  3.83it/s]\n"
     ]
    },
    {
     "name": "stdout",
     "output_type": "stream",
     "text": [
      "Epoch 2: {'accuracy': 0.7058823529411765, 'f1': 0.8203592814371258}\n"
     ]
    },
    {
     "name": "stderr",
     "output_type": "stream",
     "text": [
      "100%|██████████| 92/92 [00:49<00:00,  1.87it/s]\n",
      "100%|██████████| 13/13 [00:03<00:00,  3.81it/s]\n"
     ]
    },
    {
     "name": "stdout",
     "output_type": "stream",
     "text": [
      "Epoch 3: {'accuracy': 0.8137254901960784, 'f1': 0.8689655172413793}\n"
     ]
    },
    {
     "name": "stderr",
     "output_type": "stream",
     "text": [
      "100%|██████████| 92/92 [00:49<00:00,  1.87it/s]\n",
      "100%|██████████| 13/13 [00:03<00:00,  3.87it/s]\n"
     ]
    },
    {
     "name": "stdout",
     "output_type": "stream",
     "text": [
      "Epoch 4: {'accuracy': 0.8137254901960784, 'f1': 0.8774193548387097}\n"
     ]
    },
    {
     "name": "stderr",
     "output_type": "stream",
     "text": [
      "100%|██████████| 92/92 [00:49<00:00,  1.87it/s]\n",
      "100%|██████████| 13/13 [00:03<00:00,  3.86it/s]\n"
     ]
    },
    {
     "name": "stdout",
     "output_type": "stream",
     "text": [
      "Epoch 5: {'accuracy': 0.8259803921568627, 'f1': 0.8830313014827018}\n"
     ]
    },
    {
     "name": "stderr",
     "output_type": "stream",
     "text": [
      "100%|██████████| 92/92 [00:49<00:00,  1.87it/s]\n",
      "100%|██████████| 13/13 [00:03<00:00,  3.87it/s]\n"
     ]
    },
    {
     "name": "stdout",
     "output_type": "stream",
     "text": [
      "Epoch 6: {'accuracy': 0.8112745098039216, 'f1': 0.8760064412238325}\n"
     ]
    },
    {
     "name": "stderr",
     "output_type": "stream",
     "text": [
      "100%|██████████| 92/92 [00:49<00:00,  1.87it/s]\n",
      "100%|██████████| 13/13 [00:03<00:00,  3.74it/s]\n"
     ]
    },
    {
     "name": "stdout",
     "output_type": "stream",
     "text": [
      "Epoch 7: {'accuracy': 0.8406862745098039, 'f1': 0.8932676518883416}\n"
     ]
    },
    {
     "name": "stderr",
     "output_type": "stream",
     "text": [
      "100%|██████████| 92/92 [00:49<00:00,  1.85it/s]\n",
      "100%|██████████| 13/13 [00:03<00:00,  3.82it/s]\n"
     ]
    },
    {
     "name": "stdout",
     "output_type": "stream",
     "text": [
      "Epoch 8: {'accuracy': 0.8088235294117647, 'f1': 0.8753993610223643}\n"
     ]
    },
    {
     "name": "stderr",
     "output_type": "stream",
     "text": [
      "100%|██████████| 92/92 [00:49<00:00,  1.86it/s]\n",
      "100%|██████████| 13/13 [00:03<00:00,  3.80it/s]\n"
     ]
    },
    {
     "name": "stdout",
     "output_type": "stream",
     "text": [
      "Epoch 9: {'accuracy': 0.8259803921568627, 'f1': 0.8849270664505673}\n"
     ]
    },
    {
     "name": "stderr",
     "output_type": "stream",
     "text": [
      "100%|██████████| 92/92 [00:49<00:00,  1.87it/s]\n",
      "100%|██████████| 13/13 [00:03<00:00,  3.81it/s]\n"
     ]
    },
    {
     "name": "stdout",
     "output_type": "stream",
     "text": [
      "Epoch 10: {'accuracy': 0.821078431372549, 'f1': 0.8820678513731826}\n"
     ]
    },
    {
     "name": "stderr",
     "output_type": "stream",
     "text": [
      "Some weights of RobertaForSequenceClassification were not initialized from the model checkpoint at roberta-large and are newly initialized: ['classifier.dense.bias', 'classifier.dense.weight', 'classifier.out_proj.bias', 'classifier.out_proj.weight']\n",
      "You should probably TRAIN this model on a down-stream task to be able to use it for predictions and inference.\n"
     ]
    },
    {
     "name": "stdout",
     "output_type": "stream",
     "text": [
      "trainable params: 2,299,908 || all params: 356,610,052 || trainable%: 0.6449363911929212\n"
     ]
    },
    {
     "name": "stderr",
     "output_type": "stream",
     "text": [
      "100%|██████████| 92/92 [00:49<00:00,  1.86it/s]\n",
      "100%|██████████| 13/13 [00:03<00:00,  3.81it/s]\n"
     ]
    },
    {
     "name": "stdout",
     "output_type": "stream",
     "text": [
      "Epoch 1: {'accuracy': 0.6838235294117647, 'f1': 0.8122270742358079}\n"
     ]
    },
    {
     "name": "stderr",
     "output_type": "stream",
     "text": [
      "100%|██████████| 92/92 [00:49<00:00,  1.85it/s]\n",
      "100%|██████████| 13/13 [00:03<00:00,  3.74it/s]\n"
     ]
    },
    {
     "name": "stdout",
     "output_type": "stream",
     "text": [
      "Epoch 2: {'accuracy': 0.6887254901960784, 'f1': 0.8145985401459854}\n"
     ]
    },
    {
     "name": "stderr",
     "output_type": "stream",
     "text": [
      "100%|██████████| 92/92 [00:49<00:00,  1.87it/s]\n",
      "100%|██████████| 13/13 [00:03<00:00,  3.74it/s]\n"
     ]
    },
    {
     "name": "stdout",
     "output_type": "stream",
     "text": [
      "Epoch 3: {'accuracy': 0.696078431372549, 'f1': 0.8176470588235294}\n"
     ]
    },
    {
     "name": "stderr",
     "output_type": "stream",
     "text": [
      "100%|██████████| 92/92 [00:49<00:00,  1.85it/s]\n",
      "100%|██████████| 13/13 [00:03<00:00,  3.73it/s]\n"
     ]
    },
    {
     "name": "stdout",
     "output_type": "stream",
     "text": [
      "Epoch 4: {'accuracy': 0.7671568627450981, 'f1': 0.8531684698608965}\n"
     ]
    },
    {
     "name": "stderr",
     "output_type": "stream",
     "text": [
      "100%|██████████| 92/92 [00:49<00:00,  1.86it/s]\n",
      "100%|██████████| 13/13 [00:03<00:00,  3.75it/s]\n"
     ]
    },
    {
     "name": "stdout",
     "output_type": "stream",
     "text": [
      "Epoch 5: {'accuracy': 0.8014705882352942, 'f1': 0.8695652173913043}\n"
     ]
    },
    {
     "name": "stderr",
     "output_type": "stream",
     "text": [
      "100%|██████████| 92/92 [00:49<00:00,  1.87it/s]\n",
      "100%|██████████| 13/13 [00:03<00:00,  3.74it/s]\n"
     ]
    },
    {
     "name": "stdout",
     "output_type": "stream",
     "text": [
      "Epoch 6: {'accuracy': 0.8480392156862745, 'f1': 0.8956228956228957}\n"
     ]
    },
    {
     "name": "stderr",
     "output_type": "stream",
     "text": [
      "100%|██████████| 92/92 [00:49<00:00,  1.85it/s]\n",
      "100%|██████████| 13/13 [00:03<00:00,  3.76it/s]\n"
     ]
    },
    {
     "name": "stdout",
     "output_type": "stream",
     "text": [
      "Epoch 7: {'accuracy': 0.8088235294117647, 'f1': 0.875}\n"
     ]
    },
    {
     "name": "stderr",
     "output_type": "stream",
     "text": [
      "100%|██████████| 92/92 [00:49<00:00,  1.84it/s]\n",
      "100%|██████████| 13/13 [00:03<00:00,  3.65it/s]\n"
     ]
    },
    {
     "name": "stdout",
     "output_type": "stream",
     "text": [
      "Epoch 8: {'accuracy': 0.8235294117647058, 'f1': 0.8819672131147541}\n"
     ]
    },
    {
     "name": "stderr",
     "output_type": "stream",
     "text": [
      "100%|██████████| 92/92 [00:50<00:00,  1.84it/s]\n",
      "100%|██████████| 13/13 [00:03<00:00,  3.80it/s]\n"
     ]
    },
    {
     "name": "stdout",
     "output_type": "stream",
     "text": [
      "Epoch 9: {'accuracy': 0.821078431372549, 'f1': 0.8820678513731826}\n"
     ]
    },
    {
     "name": "stderr",
     "output_type": "stream",
     "text": [
      "100%|██████████| 92/92 [00:49<00:00,  1.86it/s]\n",
      "100%|██████████| 13/13 [00:03<00:00,  3.80it/s]\n"
     ]
    },
    {
     "name": "stdout",
     "output_type": "stream",
     "text": [
      "Epoch 10: {'accuracy': 0.8284313725490197, 'f1': 0.8863636363636364}\n"
     ]
    },
    {
     "name": "stderr",
     "output_type": "stream",
     "text": [
      "Some weights of RobertaForSequenceClassification were not initialized from the model checkpoint at roberta-large and are newly initialized: ['classifier.dense.bias', 'classifier.dense.weight', 'classifier.out_proj.bias', 'classifier.out_proj.weight']\n",
      "You should probably TRAIN this model on a down-stream task to be able to use it for predictions and inference.\n"
     ]
    },
    {
     "name": "stdout",
     "output_type": "stream",
     "text": [
      "trainable params: 2,299,908 || all params: 356,610,052 || trainable%: 0.6449363911929212\n"
     ]
    },
    {
     "name": "stderr",
     "output_type": "stream",
     "text": [
      "100%|██████████| 92/92 [00:48<00:00,  1.91it/s]\n",
      "100%|██████████| 13/13 [00:03<00:00,  3.77it/s]\n"
     ]
    },
    {
     "name": "stdout",
     "output_type": "stream",
     "text": [
      "Epoch 1: {'accuracy': 0.6887254901960784, 'f1': 0.8145985401459854}\n"
     ]
    },
    {
     "name": "stderr",
     "output_type": "stream",
     "text": [
      "100%|██████████| 92/92 [00:49<00:00,  1.87it/s]\n",
      "100%|██████████| 13/13 [00:03<00:00,  3.75it/s]\n"
     ]
    },
    {
     "name": "stdout",
     "output_type": "stream",
     "text": [
      "Epoch 2: {'accuracy': 0.7352941176470589, 'f1': 0.8358662613981763}\n"
     ]
    },
    {
     "name": "stderr",
     "output_type": "stream",
     "text": [
      "100%|██████████| 92/92 [00:49<00:00,  1.86it/s]\n",
      "100%|██████████| 13/13 [00:03<00:00,  3.83it/s]\n"
     ]
    },
    {
     "name": "stdout",
     "output_type": "stream",
     "text": [
      "Epoch 3: {'accuracy': 0.7696078431372549, 'f1': 0.853125}\n"
     ]
    },
    {
     "name": "stderr",
     "output_type": "stream",
     "text": [
      "100%|██████████| 92/92 [00:49<00:00,  1.86it/s]\n",
      "100%|██████████| 13/13 [00:03<00:00,  3.76it/s]\n"
     ]
    },
    {
     "name": "stdout",
     "output_type": "stream",
     "text": [
      "Epoch 4: {'accuracy': 0.8112745098039216, 'f1': 0.875605815831987}\n"
     ]
    },
    {
     "name": "stderr",
     "output_type": "stream",
     "text": [
      "100%|██████████| 92/92 [00:48<00:00,  1.88it/s]\n",
      "100%|██████████| 13/13 [00:03<00:00,  3.73it/s]\n"
     ]
    },
    {
     "name": "stdout",
     "output_type": "stream",
     "text": [
      "Epoch 5: {'accuracy': 0.8137254901960784, 'f1': 0.8774193548387097}\n"
     ]
    },
    {
     "name": "stderr",
     "output_type": "stream",
     "text": [
      "100%|██████████| 92/92 [00:49<00:00,  1.85it/s]\n",
      "100%|██████████| 13/13 [00:03<00:00,  3.73it/s]\n"
     ]
    },
    {
     "name": "stdout",
     "output_type": "stream",
     "text": [
      "Epoch 6: {'accuracy': 0.8333333333333334, 'f1': 0.8885245901639345}\n"
     ]
    },
    {
     "name": "stderr",
     "output_type": "stream",
     "text": [
      "100%|██████████| 92/92 [00:49<00:00,  1.87it/s]\n",
      "100%|██████████| 13/13 [00:03<00:00,  3.75it/s]\n"
     ]
    },
    {
     "name": "stdout",
     "output_type": "stream",
     "text": [
      "Epoch 7: {'accuracy': 0.8186274509803921, 'f1': 0.8802588996763754}\n"
     ]
    },
    {
     "name": "stderr",
     "output_type": "stream",
     "text": [
      "100%|██████████| 92/92 [00:48<00:00,  1.88it/s]\n",
      "100%|██████████| 13/13 [00:03<00:00,  3.75it/s]\n"
     ]
    },
    {
     "name": "stdout",
     "output_type": "stream",
     "text": [
      "Epoch 8: {'accuracy': 0.7916666666666666, 'f1': 0.8665620094191523}\n"
     ]
    },
    {
     "name": "stderr",
     "output_type": "stream",
     "text": [
      "100%|██████████| 92/92 [00:49<00:00,  1.86it/s]\n",
      "100%|██████████| 13/13 [00:03<00:00,  3.83it/s]\n"
     ]
    },
    {
     "name": "stdout",
     "output_type": "stream",
     "text": [
      "Epoch 9: {'accuracy': 0.8014705882352942, 'f1': 0.8716323296354992}\n"
     ]
    },
    {
     "name": "stderr",
     "output_type": "stream",
     "text": [
      "100%|██████████| 92/92 [00:49<00:00,  1.87it/s]\n",
      "100%|██████████| 13/13 [00:03<00:00,  3.74it/s]\n"
     ]
    },
    {
     "name": "stdout",
     "output_type": "stream",
     "text": [
      "Epoch 10: {'accuracy': 0.8088235294117647, 'f1': 0.875}\n"
     ]
    },
    {
     "name": "stderr",
     "output_type": "stream",
     "text": [
      "Some weights of RobertaForSequenceClassification were not initialized from the model checkpoint at roberta-large and are newly initialized: ['classifier.dense.bias', 'classifier.dense.weight', 'classifier.out_proj.bias', 'classifier.out_proj.weight']\n",
      "You should probably TRAIN this model on a down-stream task to be able to use it for predictions and inference.\n"
     ]
    },
    {
     "name": "stdout",
     "output_type": "stream",
     "text": [
      "trainable params: 2,299,908 || all params: 356,610,052 || trainable%: 0.6449363911929212\n"
     ]
    },
    {
     "name": "stderr",
     "output_type": "stream",
     "text": [
      "100%|██████████| 92/92 [00:46<00:00,  1.99it/s]\n",
      "100%|██████████| 13/13 [00:03<00:00,  4.03it/s]\n"
     ]
    },
    {
     "name": "stdout",
     "output_type": "stream",
     "text": [
      "Epoch 1: {'accuracy': 0.696078431372549, 'f1': 0.8171091445427728}\n"
     ]
    },
    {
     "name": "stderr",
     "output_type": "stream",
     "text": [
      "100%|██████████| 92/92 [00:47<00:00,  1.94it/s]\n",
      "100%|██████████| 13/13 [00:03<00:00,  3.90it/s]\n"
     ]
    },
    {
     "name": "stdout",
     "output_type": "stream",
     "text": [
      "Epoch 2: {'accuracy': 0.7034313725490197, 'f1': 0.8191330343796711}\n"
     ]
    },
    {
     "name": "stderr",
     "output_type": "stream",
     "text": [
      "100%|██████████| 92/92 [00:48<00:00,  1.90it/s]\n",
      "100%|██████████| 13/13 [00:03<00:00,  3.96it/s]\n"
     ]
    },
    {
     "name": "stdout",
     "output_type": "stream",
     "text": [
      "Epoch 3: {'accuracy': 0.8284313725490197, 'f1': 0.8841059602649006}\n"
     ]
    },
    {
     "name": "stderr",
     "output_type": "stream",
     "text": [
      "100%|██████████| 92/92 [00:48<00:00,  1.90it/s]\n",
      "100%|██████████| 13/13 [00:03<00:00,  3.95it/s]\n"
     ]
    },
    {
     "name": "stdout",
     "output_type": "stream",
     "text": [
      "Epoch 4: {'accuracy': 0.8186274509803921, 'f1': 0.8802588996763754}\n"
     ]
    },
    {
     "name": "stderr",
     "output_type": "stream",
     "text": [
      "100%|██████████| 92/92 [00:48<00:00,  1.89it/s]\n",
      "100%|██████████| 13/13 [00:03<00:00,  3.80it/s]\n"
     ]
    },
    {
     "name": "stdout",
     "output_type": "stream",
     "text": [
      "Epoch 5: {'accuracy': 0.8406862745098039, 'f1': 0.8939641109298532}\n"
     ]
    },
    {
     "name": "stderr",
     "output_type": "stream",
     "text": [
      "100%|██████████| 92/92 [00:49<00:00,  1.87it/s]\n",
      "100%|██████████| 13/13 [00:03<00:00,  3.78it/s]\n"
     ]
    },
    {
     "name": "stdout",
     "output_type": "stream",
     "text": [
      "Epoch 6: {'accuracy': 0.8112745098039216, 'f1': 0.8768}\n"
     ]
    },
    {
     "name": "stderr",
     "output_type": "stream",
     "text": [
      "100%|██████████| 92/92 [00:48<00:00,  1.88it/s]\n",
      "100%|██████████| 13/13 [00:03<00:00,  3.83it/s]\n"
     ]
    },
    {
     "name": "stdout",
     "output_type": "stream",
     "text": [
      "Epoch 7: {'accuracy': 0.8308823529411765, 'f1': 0.8881685575364667}\n"
     ]
    },
    {
     "name": "stderr",
     "output_type": "stream",
     "text": [
      "100%|██████████| 92/92 [00:49<00:00,  1.87it/s]\n",
      "100%|██████████| 13/13 [00:03<00:00,  3.85it/s]\n"
     ]
    },
    {
     "name": "stdout",
     "output_type": "stream",
     "text": [
      "Epoch 8: {'accuracy': 0.8333333333333334, 'f1': 0.889967637540453}\n"
     ]
    },
    {
     "name": "stderr",
     "output_type": "stream",
     "text": [
      "100%|██████████| 92/92 [00:49<00:00,  1.86it/s]\n",
      "100%|██████████| 13/13 [00:03<00:00,  3.82it/s]\n"
     ]
    },
    {
     "name": "stdout",
     "output_type": "stream",
     "text": [
      "Epoch 9: {'accuracy': 0.821078431372549, 'f1': 0.8828250401284109}\n"
     ]
    },
    {
     "name": "stderr",
     "output_type": "stream",
     "text": [
      "100%|██████████| 92/92 [00:49<00:00,  1.86it/s]\n",
      "100%|██████████| 13/13 [00:03<00:00,  3.82it/s]\n"
     ]
    },
    {
     "name": "stdout",
     "output_type": "stream",
     "text": [
      "Epoch 10: {'accuracy': 0.8259803921568627, 'f1': 0.8856682769726248}\n"
     ]
    },
    {
     "name": "stderr",
     "output_type": "stream",
     "text": [
      "Some weights of RobertaForSequenceClassification were not initialized from the model checkpoint at roberta-large and are newly initialized: ['classifier.dense.bias', 'classifier.dense.weight', 'classifier.out_proj.bias', 'classifier.out_proj.weight']\n",
      "You should probably TRAIN this model on a down-stream task to be able to use it for predictions and inference.\n"
     ]
    },
    {
     "name": "stdout",
     "output_type": "stream",
     "text": [
      "trainable params: 2,299,908 || all params: 356,610,052 || trainable%: 0.6449363911929212\n"
     ]
    },
    {
     "name": "stderr",
     "output_type": "stream",
     "text": [
      "100%|██████████| 92/92 [00:49<00:00,  1.87it/s]\n",
      "100%|██████████| 13/13 [00:03<00:00,  3.85it/s]\n"
     ]
    },
    {
     "name": "stdout",
     "output_type": "stream",
     "text": [
      "Epoch 1: {'accuracy': 0.6838235294117647, 'f1': 0.8122270742358079}\n"
     ]
    },
    {
     "name": "stderr",
     "output_type": "stream",
     "text": [
      "100%|██████████| 92/92 [00:49<00:00,  1.86it/s]\n",
      "100%|██████████| 13/13 [00:03<00:00,  3.85it/s]\n"
     ]
    },
    {
     "name": "stdout",
     "output_type": "stream",
     "text": [
      "Epoch 2: {'accuracy': 0.7034313725490197, 'f1': 0.8202080237741456}\n"
     ]
    },
    {
     "name": "stderr",
     "output_type": "stream",
     "text": [
      "100%|██████████| 92/92 [00:49<00:00,  1.87it/s]\n",
      "100%|██████████| 13/13 [00:03<00:00,  3.83it/s]\n"
     ]
    },
    {
     "name": "stdout",
     "output_type": "stream",
     "text": [
      "Epoch 3: {'accuracy': 0.7745098039215687, 'f1': 0.8557993730407524}\n"
     ]
    },
    {
     "name": "stderr",
     "output_type": "stream",
     "text": [
      "100%|██████████| 92/92 [00:49<00:00,  1.86it/s]\n",
      "100%|██████████| 13/13 [00:03<00:00,  3.82it/s]\n"
     ]
    },
    {
     "name": "stdout",
     "output_type": "stream",
     "text": [
      "Epoch 4: {'accuracy': 0.8137254901960784, 'f1': 0.8754098360655738}\n"
     ]
    },
    {
     "name": "stderr",
     "output_type": "stream",
     "text": [
      "100%|██████████| 92/92 [00:49<00:00,  1.86it/s]\n",
      "100%|██████████| 13/13 [00:03<00:00,  3.78it/s]\n"
     ]
    },
    {
     "name": "stdout",
     "output_type": "stream",
     "text": [
      "Epoch 5: {'accuracy': 0.7843137254901961, 'f1': 0.861198738170347}\n"
     ]
    },
    {
     "name": "stderr",
     "output_type": "stream",
     "text": [
      "100%|██████████| 92/92 [00:49<00:00,  1.87it/s]\n",
      "100%|██████████| 13/13 [00:03<00:00,  3.88it/s]\n"
     ]
    },
    {
     "name": "stdout",
     "output_type": "stream",
     "text": [
      "Epoch 6: {'accuracy': 0.8088235294117647, 'f1': 0.8741935483870967}\n"
     ]
    },
    {
     "name": "stderr",
     "output_type": "stream",
     "text": [
      "100%|██████████| 92/92 [00:49<00:00,  1.85it/s]\n",
      "100%|██████████| 13/13 [00:03<00:00,  3.82it/s]\n"
     ]
    },
    {
     "name": "stdout",
     "output_type": "stream",
     "text": [
      "Epoch 7: {'accuracy': 0.8284313725490197, 'f1': 0.8856209150326797}\n"
     ]
    },
    {
     "name": "stderr",
     "output_type": "stream",
     "text": [
      "100%|██████████| 92/92 [00:49<00:00,  1.86it/s]\n",
      "100%|██████████| 13/13 [00:03<00:00,  3.81it/s]\n"
     ]
    },
    {
     "name": "stdout",
     "output_type": "stream",
     "text": [
      "Epoch 8: {'accuracy': 0.8284313725490197, 'f1': 0.8856209150326797}\n"
     ]
    },
    {
     "name": "stderr",
     "output_type": "stream",
     "text": [
      "100%|██████████| 92/92 [00:49<00:00,  1.85it/s]\n",
      "100%|██████████| 13/13 [00:03<00:00,  3.81it/s]\n"
     ]
    },
    {
     "name": "stdout",
     "output_type": "stream",
     "text": [
      "Epoch 9: {'accuracy': 0.8063725490196079, 'f1': 0.8731942215088283}\n"
     ]
    },
    {
     "name": "stderr",
     "output_type": "stream",
     "text": [
      "100%|██████████| 92/92 [00:49<00:00,  1.86it/s]\n",
      "100%|██████████| 13/13 [00:03<00:00,  3.86it/s]\n"
     ]
    },
    {
     "name": "stdout",
     "output_type": "stream",
     "text": [
      "Epoch 10: {'accuracy': 0.8137254901960784, 'f1': 0.8774193548387097}\n"
     ]
    },
    {
     "name": "stderr",
     "output_type": "stream",
     "text": [
      "Some weights of RobertaForSequenceClassification were not initialized from the model checkpoint at roberta-large and are newly initialized: ['classifier.dense.bias', 'classifier.dense.weight', 'classifier.out_proj.bias', 'classifier.out_proj.weight']\n",
      "You should probably TRAIN this model on a down-stream task to be able to use it for predictions and inference.\n"
     ]
    },
    {
     "name": "stdout",
     "output_type": "stream",
     "text": [
      "trainable params: 2,299,908 || all params: 356,610,052 || trainable%: 0.6449363911929212\n"
     ]
    },
    {
     "name": "stderr",
     "output_type": "stream",
     "text": [
      "100%|██████████| 92/92 [00:45<00:00,  2.01it/s]\n",
      "100%|██████████| 13/13 [00:03<00:00,  4.15it/s]\n"
     ]
    },
    {
     "name": "stdout",
     "output_type": "stream",
     "text": [
      "Epoch 1: {'accuracy': 0.6887254901960784, 'f1': 0.8145985401459854}\n"
     ]
    },
    {
     "name": "stderr",
     "output_type": "stream",
     "text": [
      "100%|██████████| 92/92 [00:46<00:00,  1.97it/s]\n",
      "100%|██████████| 13/13 [00:03<00:00,  4.05it/s]\n"
     ]
    },
    {
     "name": "stdout",
     "output_type": "stream",
     "text": [
      "Epoch 2: {'accuracy': 0.7009803921568627, 'f1': 0.8173652694610778}\n"
     ]
    },
    {
     "name": "stderr",
     "output_type": "stream",
     "text": [
      "100%|██████████| 92/92 [00:47<00:00,  1.94it/s]\n",
      "100%|██████████| 13/13 [00:03<00:00,  3.95it/s]\n"
     ]
    },
    {
     "name": "stdout",
     "output_type": "stream",
     "text": [
      "Epoch 3: {'accuracy': 0.75, 'f1': 0.8440366972477065}\n"
     ]
    },
    {
     "name": "stderr",
     "output_type": "stream",
     "text": [
      "100%|██████████| 92/92 [00:48<00:00,  1.91it/s]\n",
      "100%|██████████| 13/13 [00:03<00:00,  3.85it/s]\n"
     ]
    },
    {
     "name": "stdout",
     "output_type": "stream",
     "text": [
      "Epoch 4: {'accuracy': 0.803921568627451, 'f1': 0.8679867986798679}\n"
     ]
    },
    {
     "name": "stderr",
     "output_type": "stream",
     "text": [
      "100%|██████████| 92/92 [00:48<00:00,  1.88it/s]\n",
      "100%|██████████| 13/13 [00:03<00:00,  3.86it/s]\n"
     ]
    },
    {
     "name": "stdout",
     "output_type": "stream",
     "text": [
      "Epoch 5: {'accuracy': 0.7941176470588235, 'f1': 0.8675078864353313}\n"
     ]
    },
    {
     "name": "stderr",
     "output_type": "stream",
     "text": [
      "100%|██████████| 92/92 [00:49<00:00,  1.87it/s]\n",
      "100%|██████████| 13/13 [00:03<00:00,  3.77it/s]\n"
     ]
    },
    {
     "name": "stdout",
     "output_type": "stream",
     "text": [
      "Epoch 6: {'accuracy': 0.8063725490196079, 'f1': 0.8740031897926634}\n"
     ]
    },
    {
     "name": "stderr",
     "output_type": "stream",
     "text": [
      "100%|██████████| 92/92 [00:49<00:00,  1.87it/s]\n",
      "100%|██████████| 13/13 [00:03<00:00,  3.85it/s]\n"
     ]
    },
    {
     "name": "stdout",
     "output_type": "stream",
     "text": [
      "Epoch 7: {'accuracy': 0.7941176470588235, 'f1': 0.8675078864353313}\n"
     ]
    },
    {
     "name": "stderr",
     "output_type": "stream",
     "text": [
      "100%|██████████| 92/92 [00:49<00:00,  1.88it/s]\n",
      "100%|██████████| 13/13 [00:03<00:00,  3.86it/s]\n"
     ]
    },
    {
     "name": "stdout",
     "output_type": "stream",
     "text": [
      "Epoch 8: {'accuracy': 0.8137254901960784, 'f1': 0.8782051282051282}\n"
     ]
    },
    {
     "name": "stderr",
     "output_type": "stream",
     "text": [
      "100%|██████████| 92/92 [00:48<00:00,  1.88it/s]\n",
      "100%|██████████| 13/13 [00:03<00:00,  3.83it/s]\n"
     ]
    },
    {
     "name": "stdout",
     "output_type": "stream",
     "text": [
      "Epoch 9: {'accuracy': 0.8284313725490197, 'f1': 0.8863636363636364}\n"
     ]
    },
    {
     "name": "stderr",
     "output_type": "stream",
     "text": [
      "100%|██████████| 92/92 [00:49<00:00,  1.86it/s]\n",
      "100%|██████████| 13/13 [00:03<00:00,  3.76it/s]\n"
     ]
    },
    {
     "name": "stdout",
     "output_type": "stream",
     "text": [
      "Epoch 10: {'accuracy': 0.8259803921568627, 'f1': 0.8849270664505673}\n"
     ]
    },
    {
     "name": "stderr",
     "output_type": "stream",
     "text": [
      "Some weights of RobertaForSequenceClassification were not initialized from the model checkpoint at roberta-large and are newly initialized: ['classifier.dense.bias', 'classifier.dense.weight', 'classifier.out_proj.bias', 'classifier.out_proj.weight']\n",
      "You should probably TRAIN this model on a down-stream task to be able to use it for predictions and inference.\n"
     ]
    },
    {
     "name": "stdout",
     "output_type": "stream",
     "text": [
      "trainable params: 2,299,908 || all params: 356,610,052 || trainable%: 0.6449363911929212\n"
     ]
    },
    {
     "name": "stderr",
     "output_type": "stream",
     "text": [
      "100%|██████████| 92/92 [00:45<00:00,  2.01it/s]\n",
      "100%|██████████| 13/13 [00:03<00:00,  3.99it/s]\n"
     ]
    },
    {
     "name": "stdout",
     "output_type": "stream",
     "text": [
      "Epoch 1: {'accuracy': 0.6838235294117647, 'f1': 0.8122270742358079}\n"
     ]
    },
    {
     "name": "stderr",
     "output_type": "stream",
     "text": [
      "100%|██████████| 92/92 [00:47<00:00,  1.95it/s]\n",
      "100%|██████████| 13/13 [00:03<00:00,  3.88it/s]\n"
     ]
    },
    {
     "name": "stdout",
     "output_type": "stream",
     "text": [
      "Epoch 2: {'accuracy': 0.6936274509803921, 'f1': 0.8169838945827232}\n"
     ]
    },
    {
     "name": "stderr",
     "output_type": "stream",
     "text": [
      "100%|██████████| 92/92 [00:48<00:00,  1.91it/s]\n",
      "100%|██████████| 13/13 [00:03<00:00,  3.94it/s]\n"
     ]
    },
    {
     "name": "stdout",
     "output_type": "stream",
     "text": [
      "Epoch 3: {'accuracy': 0.6936274509803921, 'f1': 0.8169838945827232}\n"
     ]
    },
    {
     "name": "stderr",
     "output_type": "stream",
     "text": [
      "100%|██████████| 92/92 [00:48<00:00,  1.91it/s]\n",
      "100%|██████████| 13/13 [00:03<00:00,  3.90it/s]\n"
     ]
    },
    {
     "name": "stdout",
     "output_type": "stream",
     "text": [
      "Epoch 4: {'accuracy': 0.8259803921568627, 'f1': 0.8834154351395731}\n"
     ]
    },
    {
     "name": "stderr",
     "output_type": "stream",
     "text": [
      "100%|██████████| 92/92 [00:48<00:00,  1.88it/s]\n",
      "100%|██████████| 13/13 [00:03<00:00,  3.87it/s]\n"
     ]
    },
    {
     "name": "stdout",
     "output_type": "stream",
     "text": [
      "Epoch 5: {'accuracy': 0.7598039215686274, 'f1': 0.850609756097561}\n"
     ]
    },
    {
     "name": "stderr",
     "output_type": "stream",
     "text": [
      "100%|██████████| 92/92 [00:48<00:00,  1.89it/s]\n",
      "100%|██████████| 13/13 [00:03<00:00,  3.85it/s]\n"
     ]
    },
    {
     "name": "stdout",
     "output_type": "stream",
     "text": [
      "Epoch 6: {'accuracy': 0.8431372549019608, 'f1': 0.893687707641196}\n"
     ]
    },
    {
     "name": "stderr",
     "output_type": "stream",
     "text": [
      "100%|██████████| 92/92 [00:49<00:00,  1.87it/s]\n",
      "100%|██████████| 13/13 [00:03<00:00,  3.81it/s]\n"
     ]
    },
    {
     "name": "stdout",
     "output_type": "stream",
     "text": [
      "Epoch 7: {'accuracy': 0.8235294117647058, 'f1': 0.8819672131147541}\n"
     ]
    },
    {
     "name": "stderr",
     "output_type": "stream",
     "text": [
      "100%|██████████| 92/92 [00:49<00:00,  1.87it/s]\n",
      "100%|██████████| 13/13 [00:03<00:00,  3.86it/s]\n"
     ]
    },
    {
     "name": "stdout",
     "output_type": "stream",
     "text": [
      "Epoch 8: {'accuracy': 0.8063725490196079, 'f1': 0.8751974723538705}\n"
     ]
    },
    {
     "name": "stderr",
     "output_type": "stream",
     "text": [
      "100%|██████████| 92/92 [00:49<00:00,  1.87it/s]\n",
      "100%|██████████| 13/13 [00:03<00:00,  3.78it/s]\n"
     ]
    },
    {
     "name": "stdout",
     "output_type": "stream",
     "text": [
      "Epoch 9: {'accuracy': 0.8308823529411765, 'f1': 0.8881685575364667}\n"
     ]
    },
    {
     "name": "stderr",
     "output_type": "stream",
     "text": [
      "100%|██████████| 92/92 [00:49<00:00,  1.88it/s]\n",
      "100%|██████████| 13/13 [00:03<00:00,  3.85it/s]\n"
     ]
    },
    {
     "name": "stdout",
     "output_type": "stream",
     "text": [
      "Epoch 10: {'accuracy': 0.8137254901960784, 'f1': 0.8782051282051282}\n"
     ]
    },
    {
     "name": "stderr",
     "output_type": "stream",
     "text": [
      "Some weights of RobertaForSequenceClassification were not initialized from the model checkpoint at roberta-large and are newly initialized: ['classifier.dense.bias', 'classifier.dense.weight', 'classifier.out_proj.bias', 'classifier.out_proj.weight']\n",
      "You should probably TRAIN this model on a down-stream task to be able to use it for predictions and inference.\n"
     ]
    },
    {
     "name": "stdout",
     "output_type": "stream",
     "text": [
      "trainable params: 2,299,908 || all params: 356,610,052 || trainable%: 0.6449363911929212\n"
     ]
    },
    {
     "name": "stderr",
     "output_type": "stream",
     "text": [
      "100%|██████████| 92/92 [00:45<00:00,  2.02it/s]\n",
      "100%|██████████| 13/13 [00:03<00:00,  4.01it/s]\n"
     ]
    },
    {
     "name": "stdout",
     "output_type": "stream",
     "text": [
      "Epoch 1: {'accuracy': 0.6838235294117647, 'f1': 0.8122270742358079}\n"
     ]
    },
    {
     "name": "stderr",
     "output_type": "stream",
     "text": [
      "100%|██████████| 92/92 [00:47<00:00,  1.95it/s]\n",
      "100%|██████████| 13/13 [00:03<00:00,  3.98it/s]\n"
     ]
    },
    {
     "name": "stdout",
     "output_type": "stream",
     "text": [
      "Epoch 2: {'accuracy': 0.7058823529411765, 'f1': 0.8219584569732937}\n"
     ]
    },
    {
     "name": "stderr",
     "output_type": "stream",
     "text": [
      "100%|██████████| 92/92 [00:48<00:00,  1.91it/s]\n",
      "100%|██████████| 13/13 [00:03<00:00,  3.82it/s]\n"
     ]
    },
    {
     "name": "stdout",
     "output_type": "stream",
     "text": [
      "Epoch 3: {'accuracy': 0.7132352941176471, 'f1': 0.8240601503759398}\n"
     ]
    },
    {
     "name": "stderr",
     "output_type": "stream",
     "text": [
      "100%|██████████| 92/92 [00:48<00:00,  1.90it/s]\n",
      "100%|██████████| 13/13 [00:03<00:00,  3.89it/s]\n"
     ]
    },
    {
     "name": "stdout",
     "output_type": "stream",
     "text": [
      "Epoch 4: {'accuracy': 0.7818627450980392, 'f1': 0.8598425196850393}\n"
     ]
    },
    {
     "name": "stderr",
     "output_type": "stream",
     "text": [
      "100%|██████████| 92/92 [00:48<00:00,  1.89it/s]\n",
      "100%|██████████| 13/13 [00:03<00:00,  3.78it/s]\n"
     ]
    },
    {
     "name": "stdout",
     "output_type": "stream",
     "text": [
      "Epoch 5: {'accuracy': 0.7671568627450981, 'f1': 0.8536209553158706}\n"
     ]
    },
    {
     "name": "stderr",
     "output_type": "stream",
     "text": [
      "100%|██████████| 92/92 [00:49<00:00,  1.87it/s]\n",
      "100%|██████████| 13/13 [00:03<00:00,  3.87it/s]\n"
     ]
    },
    {
     "name": "stdout",
     "output_type": "stream",
     "text": [
      "Epoch 6: {'accuracy': 0.7696078431372549, 'f1': 0.853125}\n"
     ]
    },
    {
     "name": "stderr",
     "output_type": "stream",
     "text": [
      "100%|██████████| 92/92 [00:49<00:00,  1.86it/s]\n",
      "100%|██████████| 13/13 [00:03<00:00,  3.89it/s]\n"
     ]
    },
    {
     "name": "stdout",
     "output_type": "stream",
     "text": [
      "Epoch 7: {'accuracy': 0.8112745098039216, 'f1': 0.8760064412238325}\n"
     ]
    },
    {
     "name": "stderr",
     "output_type": "stream",
     "text": [
      "100%|██████████| 92/92 [00:49<00:00,  1.86it/s]\n",
      "100%|██████████| 13/13 [00:03<00:00,  3.85it/s]\n"
     ]
    },
    {
     "name": "stdout",
     "output_type": "stream",
     "text": [
      "Epoch 8: {'accuracy': 0.8308823529411765, 'f1': 0.8874388254486134}\n"
     ]
    },
    {
     "name": "stderr",
     "output_type": "stream",
     "text": [
      "100%|██████████| 92/92 [00:48<00:00,  1.88it/s]\n",
      "100%|██████████| 13/13 [00:03<00:00,  3.86it/s]\n"
     ]
    },
    {
     "name": "stdout",
     "output_type": "stream",
     "text": [
      "Epoch 9: {'accuracy': 0.8137254901960784, 'f1': 0.8778135048231511}\n"
     ]
    },
    {
     "name": "stderr",
     "output_type": "stream",
     "text": [
      "100%|██████████| 92/92 [00:49<00:00,  1.86it/s]\n",
      "100%|██████████| 13/13 [00:03<00:00,  3.82it/s]\n"
     ]
    },
    {
     "name": "stdout",
     "output_type": "stream",
     "text": [
      "Epoch 10: {'accuracy': 0.8161764705882353, 'f1': 0.8792270531400966}\n"
     ]
    },
    {
     "name": "stderr",
     "output_type": "stream",
     "text": [
      "Some weights of RobertaForSequenceClassification were not initialized from the model checkpoint at roberta-large and are newly initialized: ['classifier.dense.bias', 'classifier.dense.weight', 'classifier.out_proj.bias', 'classifier.out_proj.weight']\n",
      "You should probably TRAIN this model on a down-stream task to be able to use it for predictions and inference.\n"
     ]
    },
    {
     "name": "stdout",
     "output_type": "stream",
     "text": [
      "trainable params: 2,299,908 || all params: 356,610,052 || trainable%: 0.6449363911929212\n"
     ]
    },
    {
     "name": "stderr",
     "output_type": "stream",
     "text": [
      "100%|██████████| 92/92 [00:45<00:00,  2.02it/s]\n",
      "100%|██████████| 13/13 [00:03<00:00,  4.18it/s]\n"
     ]
    },
    {
     "name": "stdout",
     "output_type": "stream",
     "text": [
      "Epoch 1: {'accuracy': 0.6838235294117647, 'f1': 0.8122270742358079}\n"
     ]
    },
    {
     "name": "stderr",
     "output_type": "stream",
     "text": [
      "100%|██████████| 92/92 [00:47<00:00,  1.95it/s]\n",
      "100%|██████████| 13/13 [00:03<00:00,  3.95it/s]\n"
     ]
    },
    {
     "name": "stdout",
     "output_type": "stream",
     "text": [
      "Epoch 2: {'accuracy': 0.7009803921568627, 'f1': 0.8205882352941176}\n"
     ]
    },
    {
     "name": "stderr",
     "output_type": "stream",
     "text": [
      "100%|██████████| 92/92 [00:48<00:00,  1.90it/s]\n",
      "100%|██████████| 13/13 [00:03<00:00,  3.82it/s]\n"
     ]
    },
    {
     "name": "stdout",
     "output_type": "stream",
     "text": [
      "Epoch 3: {'accuracy': 0.7524509803921569, 'f1': 0.8448540706605223}\n"
     ]
    },
    {
     "name": "stderr",
     "output_type": "stream",
     "text": [
      "100%|██████████| 92/92 [00:48<00:00,  1.88it/s]\n",
      "100%|██████████| 13/13 [00:03<00:00,  3.83it/s]\n"
     ]
    },
    {
     "name": "stdout",
     "output_type": "stream",
     "text": [
      "Epoch 4: {'accuracy': 0.7475490196078431, 'f1': 0.8427480916030534}\n"
     ]
    },
    {
     "name": "stderr",
     "output_type": "stream",
     "text": [
      "100%|██████████| 92/92 [00:49<00:00,  1.88it/s]\n",
      "100%|██████████| 13/13 [00:03<00:00,  3.83it/s]\n"
     ]
    },
    {
     "name": "stdout",
     "output_type": "stream",
     "text": [
      "Epoch 5: {'accuracy': 0.8259803921568627, 'f1': 0.8830313014827018}\n"
     ]
    },
    {
     "name": "stderr",
     "output_type": "stream",
     "text": [
      "100%|██████████| 92/92 [00:49<00:00,  1.87it/s]\n",
      "100%|██████████| 13/13 [00:03<00:00,  3.80it/s]\n"
     ]
    },
    {
     "name": "stdout",
     "output_type": "stream",
     "text": [
      "Epoch 6: {'accuracy': 0.8259803921568627, 'f1': 0.8845528455284553}\n"
     ]
    },
    {
     "name": "stderr",
     "output_type": "stream",
     "text": [
      "100%|██████████| 92/92 [00:49<00:00,  1.85it/s]\n",
      "100%|██████████| 13/13 [00:03<00:00,  3.80it/s]\n"
     ]
    },
    {
     "name": "stdout",
     "output_type": "stream",
     "text": [
      "Epoch 7: {'accuracy': 0.8284313725490197, 'f1': 0.8848684210526315}\n"
     ]
    },
    {
     "name": "stderr",
     "output_type": "stream",
     "text": [
      "100%|██████████| 92/92 [00:49<00:00,  1.87it/s]\n",
      "100%|██████████| 13/13 [00:03<00:00,  3.78it/s]\n"
     ]
    },
    {
     "name": "stdout",
     "output_type": "stream",
     "text": [
      "Epoch 8: {'accuracy': 0.8259803921568627, 'f1': 0.8841761827079935}\n"
     ]
    },
    {
     "name": "stderr",
     "output_type": "stream",
     "text": [
      "100%|██████████| 92/92 [00:49<00:00,  1.86it/s]\n",
      "100%|██████████| 13/13 [00:03<00:00,  3.80it/s]\n"
     ]
    },
    {
     "name": "stdout",
     "output_type": "stream",
     "text": [
      "Epoch 9: {'accuracy': 0.8284313725490197, 'f1': 0.8856209150326797}\n"
     ]
    },
    {
     "name": "stderr",
     "output_type": "stream",
     "text": [
      "100%|██████████| 92/92 [00:49<00:00,  1.86it/s]\n",
      "100%|██████████| 13/13 [00:03<00:00,  3.86it/s]\n"
     ]
    },
    {
     "name": "stdout",
     "output_type": "stream",
     "text": [
      "Epoch 10: {'accuracy': 0.8308823529411765, 'f1': 0.8870703764320785}\n"
     ]
    },
    {
     "name": "stderr",
     "output_type": "stream",
     "text": [
      "Some weights of RobertaForSequenceClassification were not initialized from the model checkpoint at roberta-large and are newly initialized: ['classifier.dense.bias', 'classifier.dense.weight', 'classifier.out_proj.bias', 'classifier.out_proj.weight']\n",
      "You should probably TRAIN this model on a down-stream task to be able to use it for predictions and inference.\n"
     ]
    },
    {
     "name": "stdout",
     "output_type": "stream",
     "text": [
      "trainable params: 2,299,908 || all params: 356,610,052 || trainable%: 0.6449363911929212\n"
     ]
    },
    {
     "name": "stderr",
     "output_type": "stream",
     "text": [
      "100%|██████████| 92/92 [00:49<00:00,  1.86it/s]\n",
      "100%|██████████| 13/13 [00:03<00:00,  3.85it/s]\n"
     ]
    },
    {
     "name": "stdout",
     "output_type": "stream",
     "text": [
      "Epoch 1: {'accuracy': 0.6838235294117647, 'f1': 0.8122270742358079}\n"
     ]
    },
    {
     "name": "stderr",
     "output_type": "stream",
     "text": [
      "100%|██████████| 92/92 [00:49<00:00,  1.86it/s]\n",
      "100%|██████████| 13/13 [00:03<00:00,  3.80it/s]\n"
     ]
    },
    {
     "name": "stdout",
     "output_type": "stream",
     "text": [
      "Epoch 2: {'accuracy': 0.7034313725490197, 'f1': 0.8212703101920237}\n"
     ]
    },
    {
     "name": "stderr",
     "output_type": "stream",
     "text": [
      "100%|██████████| 92/92 [00:49<00:00,  1.86it/s]\n",
      "100%|██████████| 13/13 [00:03<00:00,  3.84it/s]\n"
     ]
    },
    {
     "name": "stdout",
     "output_type": "stream",
     "text": [
      "Epoch 3: {'accuracy': 0.7352941176470589, 'f1': 0.8358662613981763}\n"
     ]
    },
    {
     "name": "stderr",
     "output_type": "stream",
     "text": [
      "100%|██████████| 92/92 [00:49<00:00,  1.87it/s]\n",
      "100%|██████████| 13/13 [00:03<00:00,  3.84it/s]\n"
     ]
    },
    {
     "name": "stdout",
     "output_type": "stream",
     "text": [
      "Epoch 4: {'accuracy': 0.7377450980392157, 'f1': 0.8390977443609022}\n"
     ]
    },
    {
     "name": "stderr",
     "output_type": "stream",
     "text": [
      "100%|██████████| 92/92 [00:49<00:00,  1.87it/s]\n",
      "100%|██████████| 13/13 [00:03<00:00,  3.83it/s]\n"
     ]
    },
    {
     "name": "stdout",
     "output_type": "stream",
     "text": [
      "Epoch 5: {'accuracy': 0.8259803921568627, 'f1': 0.8841761827079935}\n"
     ]
    },
    {
     "name": "stderr",
     "output_type": "stream",
     "text": [
      "100%|██████████| 92/92 [00:49<00:00,  1.87it/s]\n",
      "100%|██████████| 13/13 [00:03<00:00,  3.88it/s]\n"
     ]
    },
    {
     "name": "stdout",
     "output_type": "stream",
     "text": [
      "Epoch 6: {'accuracy': 0.8333333333333334, 'f1': 0.8892508143322475}\n"
     ]
    },
    {
     "name": "stderr",
     "output_type": "stream",
     "text": [
      "100%|██████████| 92/92 [00:49<00:00,  1.87it/s]\n",
      "100%|██████████| 13/13 [00:03<00:00,  3.85it/s]\n"
     ]
    },
    {
     "name": "stdout",
     "output_type": "stream",
     "text": [
      "Epoch 7: {'accuracy': 0.8357843137254902, 'f1': 0.8910569105691057}\n"
     ]
    },
    {
     "name": "stderr",
     "output_type": "stream",
     "text": [
      "100%|██████████| 92/92 [00:49<00:00,  1.87it/s]\n",
      "100%|██████████| 13/13 [00:03<00:00,  3.81it/s]\n"
     ]
    },
    {
     "name": "stdout",
     "output_type": "stream",
     "text": [
      "Epoch 8: {'accuracy': 0.7941176470588235, 'f1': 0.8679245283018868}\n"
     ]
    },
    {
     "name": "stderr",
     "output_type": "stream",
     "text": [
      "100%|██████████| 92/92 [00:49<00:00,  1.86it/s]\n",
      "100%|██████████| 13/13 [00:03<00:00,  3.89it/s]\n"
     ]
    },
    {
     "name": "stdout",
     "output_type": "stream",
     "text": [
      "Epoch 9: {'accuracy': 0.8529411764705882, 'f1': 0.9003322259136213}\n"
     ]
    },
    {
     "name": "stderr",
     "output_type": "stream",
     "text": [
      "100%|██████████| 92/92 [00:49<00:00,  1.87it/s]\n",
      "100%|██████████| 13/13 [00:03<00:00,  3.89it/s]\n"
     ]
    },
    {
     "name": "stdout",
     "output_type": "stream",
     "text": [
      "Epoch 10: {'accuracy': 0.8406862745098039, 'f1': 0.8939641109298532}\n"
     ]
    },
    {
     "name": "stderr",
     "output_type": "stream",
     "text": [
      "Some weights of RobertaForSequenceClassification were not initialized from the model checkpoint at roberta-large and are newly initialized: ['classifier.dense.bias', 'classifier.dense.weight', 'classifier.out_proj.bias', 'classifier.out_proj.weight']\n",
      "You should probably TRAIN this model on a down-stream task to be able to use it for predictions and inference.\n"
     ]
    },
    {
     "name": "stdout",
     "output_type": "stream",
     "text": [
      "trainable params: 2,299,908 || all params: 356,610,052 || trainable%: 0.6449363911929212\n"
     ]
    },
    {
     "name": "stderr",
     "output_type": "stream",
     "text": [
      "100%|██████████| 92/92 [00:45<00:00,  2.02it/s]\n",
      "100%|██████████| 13/13 [00:03<00:00,  4.15it/s]\n"
     ]
    },
    {
     "name": "stdout",
     "output_type": "stream",
     "text": [
      "Epoch 1: {'accuracy': 0.6838235294117647, 'f1': 0.8122270742358079}\n"
     ]
    },
    {
     "name": "stderr",
     "output_type": "stream",
     "text": [
      "100%|██████████| 92/92 [00:46<00:00,  1.96it/s]\n",
      "100%|██████████| 13/13 [00:03<00:00,  3.96it/s]\n"
     ]
    },
    {
     "name": "stdout",
     "output_type": "stream",
     "text": [
      "Epoch 2: {'accuracy': 0.7107843137254902, 'f1': 0.8217522658610272}\n"
     ]
    },
    {
     "name": "stderr",
     "output_type": "stream",
     "text": [
      "100%|██████████| 92/92 [00:48<00:00,  1.91it/s]\n",
      "100%|██████████| 13/13 [00:03<00:00,  3.90it/s]\n"
     ]
    },
    {
     "name": "stdout",
     "output_type": "stream",
     "text": [
      "Epoch 3: {'accuracy': 0.6887254901960784, 'f1': 0.8145985401459854}\n"
     ]
    },
    {
     "name": "stderr",
     "output_type": "stream",
     "text": [
      "100%|██████████| 92/92 [00:48<00:00,  1.90it/s]\n",
      "100%|██████████| 13/13 [00:03<00:00,  3.89it/s]\n"
     ]
    },
    {
     "name": "stdout",
     "output_type": "stream",
     "text": [
      "Epoch 4: {'accuracy': 0.8137254901960784, 'f1': 0.8766233766233766}\n"
     ]
    },
    {
     "name": "stderr",
     "output_type": "stream",
     "text": [
      "100%|██████████| 92/92 [00:48<00:00,  1.89it/s]\n",
      "100%|██████████| 13/13 [00:03<00:00,  3.87it/s]\n"
     ]
    },
    {
     "name": "stdout",
     "output_type": "stream",
     "text": [
      "Epoch 5: {'accuracy': 0.7818627450980392, 'f1': 0.8607198748043818}\n"
     ]
    },
    {
     "name": "stderr",
     "output_type": "stream",
     "text": [
      "100%|██████████| 92/92 [00:48<00:00,  1.88it/s]\n",
      "100%|██████████| 13/13 [00:03<00:00,  3.83it/s]\n"
     ]
    },
    {
     "name": "stdout",
     "output_type": "stream",
     "text": [
      "Epoch 6: {'accuracy': 0.8112745098039216, 'f1': 0.8764044943820225}\n"
     ]
    },
    {
     "name": "stderr",
     "output_type": "stream",
     "text": [
      "100%|██████████| 92/92 [00:49<00:00,  1.88it/s]\n",
      "100%|██████████| 13/13 [00:03<00:00,  3.90it/s]\n"
     ]
    },
    {
     "name": "stdout",
     "output_type": "stream",
     "text": [
      "Epoch 7: {'accuracy': 0.8382352941176471, 'f1': 0.8921568627450981}\n"
     ]
    },
    {
     "name": "stderr",
     "output_type": "stream",
     "text": [
      "100%|██████████| 92/92 [00:49<00:00,  1.87it/s]\n",
      "100%|██████████| 13/13 [00:03<00:00,  3.79it/s]\n"
     ]
    },
    {
     "name": "stdout",
     "output_type": "stream",
     "text": [
      "Epoch 8: {'accuracy': 0.8112745098039216, 'f1': 0.8764044943820225}\n"
     ]
    },
    {
     "name": "stderr",
     "output_type": "stream",
     "text": [
      "100%|██████████| 92/92 [00:49<00:00,  1.87it/s]\n",
      "100%|██████████| 13/13 [00:03<00:00,  3.88it/s]\n"
     ]
    },
    {
     "name": "stdout",
     "output_type": "stream",
     "text": [
      "Epoch 9: {'accuracy': 0.8235294117647058, 'f1': 0.883495145631068}\n"
     ]
    },
    {
     "name": "stderr",
     "output_type": "stream",
     "text": [
      "100%|██████████| 92/92 [00:49<00:00,  1.87it/s]\n",
      "100%|██████████| 13/13 [00:03<00:00,  3.81it/s]\n"
     ]
    },
    {
     "name": "stdout",
     "output_type": "stream",
     "text": [
      "Epoch 10: {'accuracy': 0.8112745098039216, 'f1': 0.8764044943820225}\n"
     ]
    },
    {
     "name": "stderr",
     "output_type": "stream",
     "text": [
      "Some weights of RobertaForSequenceClassification were not initialized from the model checkpoint at roberta-large and are newly initialized: ['classifier.dense.bias', 'classifier.dense.weight', 'classifier.out_proj.bias', 'classifier.out_proj.weight']\n",
      "You should probably TRAIN this model on a down-stream task to be able to use it for predictions and inference.\n"
     ]
    },
    {
     "name": "stdout",
     "output_type": "stream",
     "text": [
      "trainable params: 2,299,908 || all params: 356,610,052 || trainable%: 0.6449363911929212\n"
     ]
    },
    {
     "name": "stderr",
     "output_type": "stream",
     "text": [
      "100%|██████████| 92/92 [00:46<00:00,  1.99it/s]\n",
      "100%|██████████| 13/13 [00:03<00:00,  4.06it/s]\n"
     ]
    },
    {
     "name": "stdout",
     "output_type": "stream",
     "text": [
      "Epoch 1: {'accuracy': 0.6838235294117647, 'f1': 0.8122270742358079}\n"
     ]
    },
    {
     "name": "stderr",
     "output_type": "stream",
     "text": [
      "100%|██████████| 92/92 [00:48<00:00,  1.91it/s]\n",
      "100%|██████████| 13/13 [00:03<00:00,  3.77it/s]\n"
     ]
    },
    {
     "name": "stdout",
     "output_type": "stream",
     "text": [
      "Epoch 2: {'accuracy': 0.7058823529411765, 'f1': 0.8165137614678899}\n"
     ]
    },
    {
     "name": "stderr",
     "output_type": "stream",
     "text": [
      "100%|██████████| 92/92 [00:48<00:00,  1.91it/s]\n",
      "100%|██████████| 13/13 [00:03<00:00,  3.76it/s]\n"
     ]
    },
    {
     "name": "stdout",
     "output_type": "stream",
     "text": [
      "Epoch 3: {'accuracy': 0.7647058823529411, 'f1': 0.8504672897196262}\n"
     ]
    },
    {
     "name": "stderr",
     "output_type": "stream",
     "text": [
      "100%|██████████| 92/92 [00:48<00:00,  1.89it/s]\n",
      "100%|██████████| 13/13 [00:03<00:00,  3.70it/s]\n"
     ]
    },
    {
     "name": "stdout",
     "output_type": "stream",
     "text": [
      "Epoch 4: {'accuracy': 0.7720588235294118, 'f1': 0.8567026194144838}\n"
     ]
    },
    {
     "name": "stderr",
     "output_type": "stream",
     "text": [
      "100%|██████████| 92/92 [00:48<00:00,  1.89it/s]\n",
      "100%|██████████| 13/13 [00:03<00:00,  3.82it/s]\n"
     ]
    },
    {
     "name": "stdout",
     "output_type": "stream",
     "text": [
      "Epoch 5: {'accuracy': 0.7941176470588235, 'f1': 0.8683385579937304}\n"
     ]
    },
    {
     "name": "stderr",
     "output_type": "stream",
     "text": [
      "100%|██████████| 92/92 [00:48<00:00,  1.88it/s]\n",
      "100%|██████████| 13/13 [00:03<00:00,  3.73it/s]\n"
     ]
    },
    {
     "name": "stdout",
     "output_type": "stream",
     "text": [
      "Epoch 6: {'accuracy': 0.8308823529411765, 'f1': 0.8866995073891626}\n"
     ]
    },
    {
     "name": "stderr",
     "output_type": "stream",
     "text": [
      "100%|██████████| 92/92 [00:48<00:00,  1.89it/s]\n",
      "100%|██████████| 13/13 [00:03<00:00,  3.80it/s]\n"
     ]
    },
    {
     "name": "stdout",
     "output_type": "stream",
     "text": [
      "Epoch 7: {'accuracy': 0.8284313725490197, 'f1': 0.8856209150326797}\n"
     ]
    },
    {
     "name": "stderr",
     "output_type": "stream",
     "text": [
      "100%|██████████| 92/92 [00:48<00:00,  1.88it/s]\n",
      "100%|██████████| 13/13 [00:03<00:00,  3.87it/s]\n"
     ]
    },
    {
     "name": "stdout",
     "output_type": "stream",
     "text": [
      "Epoch 8: {'accuracy': 0.8235294117647058, 'f1': 0.8838709677419355}\n"
     ]
    },
    {
     "name": "stderr",
     "output_type": "stream",
     "text": [
      "100%|██████████| 92/92 [00:49<00:00,  1.86it/s]\n",
      "100%|██████████| 13/13 [00:03<00:00,  3.76it/s]\n"
     ]
    },
    {
     "name": "stdout",
     "output_type": "stream",
     "text": [
      "Epoch 9: {'accuracy': 0.821078431372549, 'f1': 0.8820678513731826}\n"
     ]
    },
    {
     "name": "stderr",
     "output_type": "stream",
     "text": [
      "100%|██████████| 92/92 [00:49<00:00,  1.85it/s]\n",
      "100%|██████████| 13/13 [00:03<00:00,  3.76it/s]\n"
     ]
    },
    {
     "name": "stdout",
     "output_type": "stream",
     "text": [
      "Epoch 10: {'accuracy': 0.8137254901960784, 'f1': 0.8785942492012779}\n"
     ]
    },
    {
     "name": "stderr",
     "output_type": "stream",
     "text": [
      "Some weights of RobertaForSequenceClassification were not initialized from the model checkpoint at roberta-large and are newly initialized: ['classifier.dense.bias', 'classifier.dense.weight', 'classifier.out_proj.bias', 'classifier.out_proj.weight']\n",
      "You should probably TRAIN this model on a down-stream task to be able to use it for predictions and inference.\n"
     ]
    },
    {
     "name": "stdout",
     "output_type": "stream",
     "text": [
      "trainable params: 2,299,908 || all params: 356,610,052 || trainable%: 0.6449363911929212\n"
     ]
    },
    {
     "name": "stderr",
     "output_type": "stream",
     "text": [
      "100%|██████████| 92/92 [00:49<00:00,  1.87it/s]\n",
      "100%|██████████| 13/13 [00:03<00:00,  3.71it/s]\n"
     ]
    },
    {
     "name": "stdout",
     "output_type": "stream",
     "text": [
      "Epoch 1: {'accuracy': 0.6838235294117647, 'f1': 0.8122270742358079}\n"
     ]
    },
    {
     "name": "stderr",
     "output_type": "stream",
     "text": [
      "100%|██████████| 92/92 [00:49<00:00,  1.87it/s]\n",
      "100%|██████████| 13/13 [00:03<00:00,  3.78it/s]\n"
     ]
    },
    {
     "name": "stdout",
     "output_type": "stream",
     "text": [
      "Epoch 2: {'accuracy': 0.7034313725490197, 'f1': 0.8212703101920237}\n"
     ]
    },
    {
     "name": "stderr",
     "output_type": "stream",
     "text": [
      "100%|██████████| 92/92 [00:48<00:00,  1.88it/s]\n",
      "100%|██████████| 13/13 [00:03<00:00,  3.74it/s]\n"
     ]
    },
    {
     "name": "stdout",
     "output_type": "stream",
     "text": [
      "Epoch 3: {'accuracy': 0.7892156862745098, 'f1': 0.8634920634920635}\n"
     ]
    },
    {
     "name": "stderr",
     "output_type": "stream",
     "text": [
      "100%|██████████| 92/92 [00:49<00:00,  1.87it/s]\n",
      "100%|██████████| 13/13 [00:03<00:00,  3.75it/s]\n"
     ]
    },
    {
     "name": "stdout",
     "output_type": "stream",
     "text": [
      "Epoch 4: {'accuracy': 0.7720588235294118, 'f1': 0.8553654743390358}\n"
     ]
    },
    {
     "name": "stderr",
     "output_type": "stream",
     "text": [
      "100%|██████████| 92/92 [00:49<00:00,  1.85it/s]\n",
      "100%|██████████| 13/13 [00:03<00:00,  3.79it/s]\n"
     ]
    },
    {
     "name": "stdout",
     "output_type": "stream",
     "text": [
      "Epoch 5: {'accuracy': 0.8088235294117647, 'f1': 0.8745980707395499}\n"
     ]
    },
    {
     "name": "stderr",
     "output_type": "stream",
     "text": [
      "100%|██████████| 92/92 [00:49<00:00,  1.87it/s]\n",
      "100%|██████████| 13/13 [00:03<00:00,  3.71it/s]\n"
     ]
    },
    {
     "name": "stdout",
     "output_type": "stream",
     "text": [
      "Epoch 6: {'accuracy': 0.7990196078431373, 'f1': 0.8698412698412699}\n"
     ]
    },
    {
     "name": "stderr",
     "output_type": "stream",
     "text": [
      "100%|██████████| 92/92 [00:49<00:00,  1.87it/s]\n",
      "100%|██████████| 13/13 [00:03<00:00,  3.84it/s]\n"
     ]
    },
    {
     "name": "stdout",
     "output_type": "stream",
     "text": [
      "Epoch 7: {'accuracy': 0.8308823529411765, 'f1': 0.8870703764320785}\n"
     ]
    },
    {
     "name": "stderr",
     "output_type": "stream",
     "text": [
      "100%|██████████| 92/92 [00:49<00:00,  1.87it/s]\n",
      "100%|██████████| 13/13 [00:03<00:00,  3.71it/s]\n"
     ]
    },
    {
     "name": "stdout",
     "output_type": "stream",
     "text": [
      "Epoch 8: {'accuracy': 0.8161764705882353, 'f1': 0.8796147672552167}\n"
     ]
    },
    {
     "name": "stderr",
     "output_type": "stream",
     "text": [
      "100%|██████████| 92/92 [00:49<00:00,  1.87it/s]\n",
      "100%|██████████| 13/13 [00:03<00:00,  3.78it/s]\n"
     ]
    },
    {
     "name": "stdout",
     "output_type": "stream",
     "text": [
      "Epoch 9: {'accuracy': 0.8235294117647058, 'f1': 0.8838709677419355}\n"
     ]
    },
    {
     "name": "stderr",
     "output_type": "stream",
     "text": [
      "100%|██████████| 92/92 [00:49<00:00,  1.87it/s]\n",
      "100%|██████████| 13/13 [00:03<00:00,  3.72it/s]\n"
     ]
    },
    {
     "name": "stdout",
     "output_type": "stream",
     "text": [
      "Epoch 10: {'accuracy': 0.8186274509803921, 'f1': 0.8802588996763754}\n"
     ]
    },
    {
     "name": "stderr",
     "output_type": "stream",
     "text": [
      "Some weights of RobertaForSequenceClassification were not initialized from the model checkpoint at roberta-large and are newly initialized: ['classifier.dense.bias', 'classifier.dense.weight', 'classifier.out_proj.bias', 'classifier.out_proj.weight']\n",
      "You should probably TRAIN this model on a down-stream task to be able to use it for predictions and inference.\n"
     ]
    },
    {
     "name": "stdout",
     "output_type": "stream",
     "text": [
      "trainable params: 2,299,908 || all params: 356,610,052 || trainable%: 0.6449363911929212\n"
     ]
    },
    {
     "name": "stderr",
     "output_type": "stream",
     "text": [
      "100%|██████████| 92/92 [00:47<00:00,  1.96it/s]\n",
      "100%|██████████| 13/13 [00:03<00:00,  3.88it/s]\n"
     ]
    },
    {
     "name": "stdout",
     "output_type": "stream",
     "text": [
      "Epoch 1: {'accuracy': 0.6838235294117647, 'f1': 0.8122270742358079}\n"
     ]
    },
    {
     "name": "stderr",
     "output_type": "stream",
     "text": [
      "100%|██████████| 92/92 [00:48<00:00,  1.90it/s]\n",
      "100%|██████████| 13/13 [00:03<00:00,  3.82it/s]\n"
     ]
    },
    {
     "name": "stdout",
     "output_type": "stream",
     "text": [
      "Epoch 2: {'accuracy': 0.7524509803921569, 'f1': 0.830820770519263}\n"
     ]
    },
    {
     "name": "stderr",
     "output_type": "stream",
     "text": [
      "100%|██████████| 92/92 [00:48<00:00,  1.91it/s]\n",
      "100%|██████████| 13/13 [00:03<00:00,  3.74it/s]\n"
     ]
    },
    {
     "name": "stdout",
     "output_type": "stream",
     "text": [
      "Epoch 3: {'accuracy': 0.7892156862745098, 'f1': 0.8621794871794872}\n"
     ]
    },
    {
     "name": "stderr",
     "output_type": "stream",
     "text": [
      "100%|██████████| 92/92 [00:48<00:00,  1.89it/s]\n",
      "100%|██████████| 13/13 [00:03<00:00,  3.93it/s]\n"
     ]
    },
    {
     "name": "stdout",
     "output_type": "stream",
     "text": [
      "Epoch 4: {'accuracy': 0.8235294117647058, 'f1': 0.8783783783783784}\n"
     ]
    },
    {
     "name": "stderr",
     "output_type": "stream",
     "text": [
      "100%|██████████| 92/92 [00:48<00:00,  1.89it/s]\n",
      "100%|██████████| 13/13 [00:03<00:00,  3.82it/s]\n"
     ]
    },
    {
     "name": "stdout",
     "output_type": "stream",
     "text": [
      "Epoch 5: {'accuracy': 0.7916666666666666, 'f1': 0.8652931854199684}\n"
     ]
    },
    {
     "name": "stderr",
     "output_type": "stream",
     "text": [
      "100%|██████████| 92/92 [00:48<00:00,  1.88it/s]\n",
      "100%|██████████| 13/13 [00:03<00:00,  3.82it/s]\n"
     ]
    },
    {
     "name": "stdout",
     "output_type": "stream",
     "text": [
      "Epoch 6: {'accuracy': 0.8529411764705882, 'f1': 0.8954703832752613}\n"
     ]
    },
    {
     "name": "stderr",
     "output_type": "stream",
     "text": [
      "100%|██████████| 92/92 [00:49<00:00,  1.87it/s]\n",
      "100%|██████████| 13/13 [00:03<00:00,  3.87it/s]\n"
     ]
    },
    {
     "name": "stdout",
     "output_type": "stream",
     "text": [
      "Epoch 7: {'accuracy': 0.8382352941176471, 'f1': 0.8910891089108911}\n"
     ]
    },
    {
     "name": "stderr",
     "output_type": "stream",
     "text": [
      "100%|██████████| 92/92 [00:48<00:00,  1.88it/s]\n",
      "100%|██████████| 13/13 [00:03<00:00,  3.80it/s]\n"
     ]
    },
    {
     "name": "stdout",
     "output_type": "stream",
     "text": [
      "Epoch 8: {'accuracy': 0.8676470588235294, 'f1': 0.9045936395759717}\n"
     ]
    },
    {
     "name": "stderr",
     "output_type": "stream",
     "text": [
      "100%|██████████| 92/92 [00:48<00:00,  1.89it/s]\n",
      "100%|██████████| 13/13 [00:03<00:00,  3.87it/s]\n"
     ]
    },
    {
     "name": "stdout",
     "output_type": "stream",
     "text": [
      "Epoch 9: {'accuracy': 0.8578431372549019, 'f1': 0.8993055555555556}\n"
     ]
    },
    {
     "name": "stderr",
     "output_type": "stream",
     "text": [
      "100%|██████████| 92/92 [00:48<00:00,  1.88it/s]\n",
      "100%|██████████| 13/13 [00:03<00:00,  3.88it/s]\n"
     ]
    },
    {
     "name": "stdout",
     "output_type": "stream",
     "text": [
      "Epoch 10: {'accuracy': 0.8578431372549019, 'f1': 0.897887323943662}\n"
     ]
    },
    {
     "name": "stderr",
     "output_type": "stream",
     "text": [
      "Some weights of RobertaForSequenceClassification were not initialized from the model checkpoint at roberta-large and are newly initialized: ['classifier.dense.bias', 'classifier.dense.weight', 'classifier.out_proj.bias', 'classifier.out_proj.weight']\n",
      "You should probably TRAIN this model on a down-stream task to be able to use it for predictions and inference.\n"
     ]
    },
    {
     "name": "stdout",
     "output_type": "stream",
     "text": [
      "trainable params: 2,299,908 || all params: 356,610,052 || trainable%: 0.6449363911929212\n"
     ]
    },
    {
     "name": "stderr",
     "output_type": "stream",
     "text": [
      "100%|██████████| 92/92 [00:48<00:00,  1.89it/s]\n",
      "100%|██████████| 13/13 [00:03<00:00,  3.82it/s]\n"
     ]
    },
    {
     "name": "stdout",
     "output_type": "stream",
     "text": [
      "Epoch 1: {'accuracy': 0.6838235294117647, 'f1': 0.8122270742358079}\n"
     ]
    },
    {
     "name": "stderr",
     "output_type": "stream",
     "text": [
      "100%|██████████| 92/92 [00:48<00:00,  1.88it/s]\n",
      "100%|██████████| 13/13 [00:03<00:00,  3.87it/s]\n"
     ]
    },
    {
     "name": "stdout",
     "output_type": "stream",
     "text": [
      "Epoch 2: {'accuracy': 0.7818627450980392, 'f1': 0.8533772652388797}\n"
     ]
    },
    {
     "name": "stderr",
     "output_type": "stream",
     "text": [
      "100%|██████████| 92/92 [00:48<00:00,  1.88it/s]\n",
      "100%|██████████| 13/13 [00:03<00:00,  3.85it/s]\n"
     ]
    },
    {
     "name": "stdout",
     "output_type": "stream",
     "text": [
      "Epoch 3: {'accuracy': 0.7083333333333334, 'f1': 0.8226527570789866}\n"
     ]
    },
    {
     "name": "stderr",
     "output_type": "stream",
     "text": [
      "100%|██████████| 92/92 [00:49<00:00,  1.88it/s]\n",
      "100%|██████████| 13/13 [00:03<00:00,  3.84it/s]\n"
     ]
    },
    {
     "name": "stdout",
     "output_type": "stream",
     "text": [
      "Epoch 4: {'accuracy': 0.8137254901960784, 'f1': 0.8628158844765343}\n"
     ]
    },
    {
     "name": "stderr",
     "output_type": "stream",
     "text": [
      "100%|██████████| 92/92 [00:49<00:00,  1.87it/s]\n",
      "100%|██████████| 13/13 [00:03<00:00,  3.82it/s]\n"
     ]
    },
    {
     "name": "stdout",
     "output_type": "stream",
     "text": [
      "Epoch 5: {'accuracy': 0.821078431372549, 'f1': 0.8781302170283807}\n"
     ]
    },
    {
     "name": "stderr",
     "output_type": "stream",
     "text": [
      "100%|██████████| 92/92 [00:49<00:00,  1.86it/s]\n",
      "100%|██████████| 13/13 [00:03<00:00,  3.86it/s]\n"
     ]
    },
    {
     "name": "stdout",
     "output_type": "stream",
     "text": [
      "Epoch 6: {'accuracy': 0.8161764705882353, 'f1': 0.8772504091653028}\n"
     ]
    },
    {
     "name": "stderr",
     "output_type": "stream",
     "text": [
      "100%|██████████| 92/92 [00:49<00:00,  1.87it/s]\n",
      "100%|██████████| 13/13 [00:03<00:00,  3.85it/s]\n"
     ]
    },
    {
     "name": "stdout",
     "output_type": "stream",
     "text": [
      "Epoch 7: {'accuracy': 0.8480392156862745, 'f1': 0.8872727272727273}\n"
     ]
    },
    {
     "name": "stderr",
     "output_type": "stream",
     "text": [
      "100%|██████████| 92/92 [00:49<00:00,  1.87it/s]\n",
      "100%|██████████| 13/13 [00:03<00:00,  3.82it/s]\n"
     ]
    },
    {
     "name": "stdout",
     "output_type": "stream",
     "text": [
      "Epoch 8: {'accuracy': 0.8480392156862745, 'f1': 0.8952702702702703}\n"
     ]
    },
    {
     "name": "stderr",
     "output_type": "stream",
     "text": [
      "100%|██████████| 92/92 [00:49<00:00,  1.85it/s]\n",
      "100%|██████████| 13/13 [00:03<00:00,  3.86it/s]\n"
     ]
    },
    {
     "name": "stdout",
     "output_type": "stream",
     "text": [
      "Epoch 9: {'accuracy': 0.8553921568627451, 'f1': 0.8981001727115717}\n"
     ]
    },
    {
     "name": "stderr",
     "output_type": "stream",
     "text": [
      "100%|██████████| 92/92 [00:49<00:00,  1.86it/s]\n",
      "100%|██████████| 13/13 [00:03<00:00,  3.81it/s]\n"
     ]
    },
    {
     "name": "stdout",
     "output_type": "stream",
     "text": [
      "Epoch 10: {'accuracy': 0.8602941176470589, 'f1': 0.9032258064516129}\n"
     ]
    },
    {
     "name": "stderr",
     "output_type": "stream",
     "text": [
      "Some weights of RobertaForSequenceClassification were not initialized from the model checkpoint at roberta-large and are newly initialized: ['classifier.dense.bias', 'classifier.dense.weight', 'classifier.out_proj.bias', 'classifier.out_proj.weight']\n",
      "You should probably TRAIN this model on a down-stream task to be able to use it for predictions and inference.\n"
     ]
    },
    {
     "name": "stdout",
     "output_type": "stream",
     "text": [
      "trainable params: 2,299,908 || all params: 356,610,052 || trainable%: 0.6449363911929212\n"
     ]
    },
    {
     "name": "stderr",
     "output_type": "stream",
     "text": [
      "100%|██████████| 92/92 [00:45<00:00,  2.01it/s]\n",
      "100%|██████████| 13/13 [00:03<00:00,  4.14it/s]\n"
     ]
    },
    {
     "name": "stdout",
     "output_type": "stream",
     "text": [
      "Epoch 1: {'accuracy': 0.6838235294117647, 'f1': 0.8122270742358079}\n"
     ]
    },
    {
     "name": "stderr",
     "output_type": "stream",
     "text": [
      "100%|██████████| 92/92 [00:47<00:00,  1.96it/s]\n",
      "100%|██████████| 13/13 [00:03<00:00,  3.97it/s]\n"
     ]
    },
    {
     "name": "stdout",
     "output_type": "stream",
     "text": [
      "Epoch 2: {'accuracy': 0.7205882352941176, 'f1': 0.8240740740740741}\n"
     ]
    },
    {
     "name": "stderr",
     "output_type": "stream",
     "text": [
      "100%|██████████| 92/92 [00:48<00:00,  1.91it/s]\n",
      "100%|██████████| 13/13 [00:03<00:00,  3.84it/s]\n"
     ]
    },
    {
     "name": "stdout",
     "output_type": "stream",
     "text": [
      "Epoch 3: {'accuracy': 0.7867647058823529, 'f1': 0.8585365853658536}\n"
     ]
    },
    {
     "name": "stderr",
     "output_type": "stream",
     "text": [
      "100%|██████████| 92/92 [00:48<00:00,  1.90it/s]\n",
      "100%|██████████| 13/13 [00:03<00:00,  3.85it/s]\n"
     ]
    },
    {
     "name": "stdout",
     "output_type": "stream",
     "text": [
      "Epoch 4: {'accuracy': 0.8333333333333334, 'f1': 0.8859060402684564}\n"
     ]
    },
    {
     "name": "stderr",
     "output_type": "stream",
     "text": [
      "100%|██████████| 92/92 [00:48<00:00,  1.90it/s]\n",
      "100%|██████████| 13/13 [00:03<00:00,  3.75it/s]\n"
     ]
    },
    {
     "name": "stdout",
     "output_type": "stream",
     "text": [
      "Epoch 5: {'accuracy': 0.8406862745098039, 'f1': 0.8911222780569514}\n"
     ]
    },
    {
     "name": "stderr",
     "output_type": "stream",
     "text": [
      "100%|██████████| 92/92 [00:48<00:00,  1.88it/s]\n",
      "100%|██████████| 13/13 [00:03<00:00,  3.81it/s]\n"
     ]
    },
    {
     "name": "stdout",
     "output_type": "stream",
     "text": [
      "Epoch 6: {'accuracy': 0.8627450980392157, 'f1': 0.9027777777777778}\n"
     ]
    },
    {
     "name": "stderr",
     "output_type": "stream",
     "text": [
      "100%|██████████| 92/92 [00:49<00:00,  1.87it/s]\n",
      "100%|██████████| 13/13 [00:03<00:00,  3.84it/s]\n"
     ]
    },
    {
     "name": "stdout",
     "output_type": "stream",
     "text": [
      "Epoch 7: {'accuracy': 0.8700980392156863, 'f1': 0.9061946902654867}\n"
     ]
    },
    {
     "name": "stderr",
     "output_type": "stream",
     "text": [
      "100%|██████████| 92/92 [00:49<00:00,  1.86it/s]\n",
      "100%|██████████| 13/13 [00:03<00:00,  3.79it/s]\n"
     ]
    },
    {
     "name": "stdout",
     "output_type": "stream",
     "text": [
      "Epoch 8: {'accuracy': 0.875, 'f1': 0.91005291005291}\n"
     ]
    },
    {
     "name": "stderr",
     "output_type": "stream",
     "text": [
      "100%|██████████| 92/92 [00:49<00:00,  1.87it/s]\n",
      "100%|██████████| 13/13 [00:03<00:00,  3.85it/s]\n"
     ]
    },
    {
     "name": "stdout",
     "output_type": "stream",
     "text": [
      "Epoch 9: {'accuracy': 0.8774509803921569, 'f1': 0.9134948096885813}\n"
     ]
    },
    {
     "name": "stderr",
     "output_type": "stream",
     "text": [
      "100%|██████████| 92/92 [00:49<00:00,  1.86it/s]\n",
      "100%|██████████| 13/13 [00:03<00:00,  3.88it/s]\n"
     ]
    },
    {
     "name": "stdout",
     "output_type": "stream",
     "text": [
      "Epoch 10: {'accuracy': 0.8774509803921569, 'f1': 0.9122807017543859}\n"
     ]
    },
    {
     "name": "stderr",
     "output_type": "stream",
     "text": [
      "Some weights of RobertaForSequenceClassification were not initialized from the model checkpoint at roberta-large and are newly initialized: ['classifier.dense.bias', 'classifier.dense.weight', 'classifier.out_proj.bias', 'classifier.out_proj.weight']\n",
      "You should probably TRAIN this model on a down-stream task to be able to use it for predictions and inference.\n"
     ]
    },
    {
     "name": "stdout",
     "output_type": "stream",
     "text": [
      "trainable params: 2,299,908 || all params: 356,610,052 || trainable%: 0.6449363911929212\n"
     ]
    },
    {
     "name": "stderr",
     "output_type": "stream",
     "text": [
      "100%|██████████| 92/92 [00:46<00:00,  1.98it/s]\n",
      "100%|██████████| 13/13 [00:03<00:00,  3.94it/s]\n"
     ]
    },
    {
     "name": "stdout",
     "output_type": "stream",
     "text": [
      "Epoch 1: {'accuracy': 0.6666666666666666, 'f1': 0.7841269841269841}\n"
     ]
    },
    {
     "name": "stderr",
     "output_type": "stream",
     "text": [
      "100%|██████████| 92/92 [00:48<00:00,  1.91it/s]\n",
      "100%|██████████| 13/13 [00:03<00:00,  3.88it/s]\n"
     ]
    },
    {
     "name": "stdout",
     "output_type": "stream",
     "text": [
      "Epoch 2: {'accuracy': 0.75, 'f1': 0.8391167192429022}\n"
     ]
    },
    {
     "name": "stderr",
     "output_type": "stream",
     "text": [
      "100%|██████████| 92/92 [00:48<00:00,  1.92it/s]\n",
      "100%|██████████| 13/13 [00:03<00:00,  3.91it/s]\n"
     ]
    },
    {
     "name": "stdout",
     "output_type": "stream",
     "text": [
      "Epoch 3: {'accuracy': 0.8137254901960784, 'f1': 0.8737541528239202}\n"
     ]
    },
    {
     "name": "stderr",
     "output_type": "stream",
     "text": [
      "100%|██████████| 92/92 [00:48<00:00,  1.90it/s]\n",
      "100%|██████████| 13/13 [00:03<00:00,  3.82it/s]\n"
     ]
    },
    {
     "name": "stdout",
     "output_type": "stream",
     "text": [
      "Epoch 4: {'accuracy': 0.8308823529411765, 'f1': 0.883248730964467}\n"
     ]
    },
    {
     "name": "stderr",
     "output_type": "stream",
     "text": [
      "100%|██████████| 92/92 [00:48<00:00,  1.90it/s]\n",
      "100%|██████████| 13/13 [00:03<00:00,  3.87it/s]\n"
     ]
    },
    {
     "name": "stdout",
     "output_type": "stream",
     "text": [
      "Epoch 5: {'accuracy': 0.8578431372549019, 'f1': 0.8996539792387543}\n"
     ]
    },
    {
     "name": "stderr",
     "output_type": "stream",
     "text": [
      "100%|██████████| 92/92 [00:49<00:00,  1.87it/s]\n",
      "100%|██████████| 13/13 [00:03<00:00,  3.78it/s]\n"
     ]
    },
    {
     "name": "stdout",
     "output_type": "stream",
     "text": [
      "Epoch 6: {'accuracy': 0.8651960784313726, 'f1': 0.8979591836734694}\n"
     ]
    },
    {
     "name": "stderr",
     "output_type": "stream",
     "text": [
      "100%|██████████| 92/92 [00:49<00:00,  1.85it/s]\n",
      "100%|██████████| 13/13 [00:03<00:00,  3.81it/s]\n"
     ]
    },
    {
     "name": "stdout",
     "output_type": "stream",
     "text": [
      "Epoch 7: {'accuracy': 0.8627450980392157, 'f1': 0.900355871886121}\n"
     ]
    },
    {
     "name": "stderr",
     "output_type": "stream",
     "text": [
      "100%|██████████| 92/92 [00:49<00:00,  1.87it/s]\n",
      "100%|██████████| 13/13 [00:03<00:00,  3.80it/s]\n"
     ]
    },
    {
     "name": "stdout",
     "output_type": "stream",
     "text": [
      "Epoch 8: {'accuracy': 0.8676470588235294, 'f1': 0.9042553191489362}\n"
     ]
    },
    {
     "name": "stderr",
     "output_type": "stream",
     "text": [
      "100%|██████████| 92/92 [00:49<00:00,  1.85it/s]\n",
      "100%|██████████| 13/13 [00:03<00:00,  3.84it/s]\n"
     ]
    },
    {
     "name": "stdout",
     "output_type": "stream",
     "text": [
      "Epoch 9: {'accuracy': 0.8799019607843137, 'f1': 0.9126559714795008}\n"
     ]
    },
    {
     "name": "stderr",
     "output_type": "stream",
     "text": [
      "100%|██████████| 92/92 [00:49<00:00,  1.86it/s]\n",
      "100%|██████████| 13/13 [00:03<00:00,  3.77it/s]\n"
     ]
    },
    {
     "name": "stdout",
     "output_type": "stream",
     "text": [
      "Epoch 10: {'accuracy': 0.8676470588235294, 'f1': 0.9052631578947369}\n"
     ]
    },
    {
     "name": "stderr",
     "output_type": "stream",
     "text": [
      "Some weights of RobertaForSequenceClassification were not initialized from the model checkpoint at roberta-large and are newly initialized: ['classifier.dense.bias', 'classifier.dense.weight', 'classifier.out_proj.bias', 'classifier.out_proj.weight']\n",
      "You should probably TRAIN this model on a down-stream task to be able to use it for predictions and inference.\n"
     ]
    },
    {
     "name": "stdout",
     "output_type": "stream",
     "text": [
      "trainable params: 2,299,908 || all params: 356,610,052 || trainable%: 0.6449363911929212\n"
     ]
    },
    {
     "name": "stderr",
     "output_type": "stream",
     "text": [
      "100%|██████████| 92/92 [00:45<00:00,  2.02it/s]\n",
      "100%|██████████| 13/13 [00:03<00:00,  4.14it/s]\n"
     ]
    },
    {
     "name": "stdout",
     "output_type": "stream",
     "text": [
      "Epoch 1: {'accuracy': 0.6936274509803921, 'f1': 0.8164464023494861}\n"
     ]
    },
    {
     "name": "stderr",
     "output_type": "stream",
     "text": [
      "100%|██████████| 92/92 [00:46<00:00,  1.96it/s]\n",
      "100%|██████████| 13/13 [00:03<00:00,  3.92it/s]\n"
     ]
    },
    {
     "name": "stdout",
     "output_type": "stream",
     "text": [
      "Epoch 2: {'accuracy': 0.7034313725490197, 'f1': 0.8191330343796711}\n"
     ]
    },
    {
     "name": "stderr",
     "output_type": "stream",
     "text": [
      "100%|██████████| 92/92 [00:48<00:00,  1.90it/s]\n",
      "100%|██████████| 13/13 [00:03<00:00,  3.87it/s]\n"
     ]
    },
    {
     "name": "stdout",
     "output_type": "stream",
     "text": [
      "Epoch 3: {'accuracy': 0.7647058823529411, 'f1': 0.8222222222222222}\n"
     ]
    },
    {
     "name": "stderr",
     "output_type": "stream",
     "text": [
      "100%|██████████| 92/92 [00:48<00:00,  1.90it/s]\n",
      "100%|██████████| 13/13 [00:03<00:00,  3.84it/s]\n"
     ]
    },
    {
     "name": "stdout",
     "output_type": "stream",
     "text": [
      "Epoch 4: {'accuracy': 0.8259803921568627, 'f1': 0.8798646362098139}\n"
     ]
    },
    {
     "name": "stderr",
     "output_type": "stream",
     "text": [
      "100%|██████████| 92/92 [00:48<00:00,  1.90it/s]\n",
      "100%|██████████| 13/13 [00:03<00:00,  3.82it/s]\n"
     ]
    },
    {
     "name": "stdout",
     "output_type": "stream",
     "text": [
      "Epoch 5: {'accuracy': 0.8676470588235294, 'f1': 0.9010989010989011}\n"
     ]
    },
    {
     "name": "stderr",
     "output_type": "stream",
     "text": [
      "100%|██████████| 92/92 [00:48<00:00,  1.88it/s]\n",
      "100%|██████████| 13/13 [00:03<00:00,  3.84it/s]\n"
     ]
    },
    {
     "name": "stdout",
     "output_type": "stream",
     "text": [
      "Epoch 6: {'accuracy': 0.8602941176470589, 'f1': 0.9025641025641026}\n"
     ]
    },
    {
     "name": "stderr",
     "output_type": "stream",
     "text": [
      "100%|██████████| 92/92 [00:48<00:00,  1.89it/s]\n",
      "100%|██████████| 13/13 [00:03<00:00,  3.88it/s]\n"
     ]
    },
    {
     "name": "stdout",
     "output_type": "stream",
     "text": [
      "Epoch 7: {'accuracy': 0.8799019607843137, 'f1': 0.9147826086956522}\n"
     ]
    },
    {
     "name": "stderr",
     "output_type": "stream",
     "text": [
      "100%|██████████| 92/92 [00:48<00:00,  1.89it/s]\n",
      "100%|██████████| 13/13 [00:03<00:00,  3.86it/s]\n"
     ]
    },
    {
     "name": "stdout",
     "output_type": "stream",
     "text": [
      "Epoch 8: {'accuracy': 0.8725490196078431, 'f1': 0.9084507042253521}\n"
     ]
    },
    {
     "name": "stderr",
     "output_type": "stream",
     "text": [
      "100%|██████████| 92/92 [00:48<00:00,  1.88it/s]\n",
      "100%|██████████| 13/13 [00:03<00:00,  3.84it/s]\n"
     ]
    },
    {
     "name": "stdout",
     "output_type": "stream",
     "text": [
      "Epoch 9: {'accuracy': 0.8651960784313726, 'f1': 0.9029982363315696}\n"
     ]
    },
    {
     "name": "stderr",
     "output_type": "stream",
     "text": [
      "100%|██████████| 92/92 [00:48<00:00,  1.89it/s]\n",
      "100%|██████████| 13/13 [00:03<00:00,  3.85it/s]\n"
     ]
    },
    {
     "name": "stdout",
     "output_type": "stream",
     "text": [
      "Epoch 10: {'accuracy': 0.8725490196078431, 'f1': 0.9094076655052264}\n"
     ]
    },
    {
     "name": "stderr",
     "output_type": "stream",
     "text": [
      "Some weights of RobertaForSequenceClassification were not initialized from the model checkpoint at roberta-large and are newly initialized: ['classifier.dense.bias', 'classifier.dense.weight', 'classifier.out_proj.bias', 'classifier.out_proj.weight']\n",
      "You should probably TRAIN this model on a down-stream task to be able to use it for predictions and inference.\n"
     ]
    },
    {
     "name": "stdout",
     "output_type": "stream",
     "text": [
      "trainable params: 2,299,908 || all params: 356,610,052 || trainable%: 0.6449363911929212\n"
     ]
    },
    {
     "name": "stderr",
     "output_type": "stream",
     "text": [
      "100%|██████████| 115/115 [00:58<00:00,  1.98it/s]\n",
      "100%|██████████| 13/13 [00:03<00:00,  4.08it/s]\n"
     ]
    },
    {
     "name": "stdout",
     "output_type": "stream",
     "text": [
      "Epoch 1: {'accuracy': 0.7009803921568627, 'f1': 0.8195266272189349}\n"
     ]
    },
    {
     "name": "stderr",
     "output_type": "stream",
     "text": [
      "100%|██████████| 115/115 [00:58<00:00,  1.95it/s]\n",
      "100%|██████████| 13/13 [00:03<00:00,  3.94it/s]\n"
     ]
    },
    {
     "name": "stdout",
     "output_type": "stream",
     "text": [
      "Epoch 2: {'accuracy': 0.7867647058823529, 'f1': 0.8599033816425121}\n"
     ]
    },
    {
     "name": "stderr",
     "output_type": "stream",
     "text": [
      "100%|██████████| 115/115 [01:00<00:00,  1.91it/s]\n",
      "100%|██████████| 13/13 [00:03<00:00,  3.93it/s]\n"
     ]
    },
    {
     "name": "stdout",
     "output_type": "stream",
     "text": [
      "Epoch 3: {'accuracy': 0.8431372549019608, 'f1': 0.8836363636363637}\n"
     ]
    },
    {
     "name": "stderr",
     "output_type": "stream",
     "text": [
      "100%|██████████| 115/115 [01:00<00:00,  1.89it/s]\n",
      "100%|██████████| 13/13 [00:03<00:00,  3.90it/s]\n"
     ]
    },
    {
     "name": "stdout",
     "output_type": "stream",
     "text": [
      "Epoch 4: {'accuracy': 0.8578431372549019, 'f1': 0.9006849315068494}\n"
     ]
    },
    {
     "name": "stderr",
     "output_type": "stream",
     "text": [
      "100%|██████████| 115/115 [01:00<00:00,  1.89it/s]\n",
      "100%|██████████| 13/13 [00:03<00:00,  3.86it/s]\n"
     ]
    },
    {
     "name": "stdout",
     "output_type": "stream",
     "text": [
      "Epoch 5: {'accuracy': 0.8480392156862745, 'f1': 0.8834586466165414}\n"
     ]
    },
    {
     "name": "stderr",
     "output_type": "stream",
     "text": [
      "100%|██████████| 115/115 [01:01<00:00,  1.89it/s]\n",
      "100%|██████████| 13/13 [00:03<00:00,  3.85it/s]\n"
     ]
    },
    {
     "name": "stdout",
     "output_type": "stream",
     "text": [
      "Epoch 6: {'accuracy': 0.8651960784313726, 'f1': 0.8968105065666041}\n"
     ]
    },
    {
     "name": "stderr",
     "output_type": "stream",
     "text": [
      "100%|██████████| 115/115 [01:01<00:00,  1.87it/s]\n",
      "100%|██████████| 13/13 [00:03<00:00,  3.87it/s]\n"
     ]
    },
    {
     "name": "stdout",
     "output_type": "stream",
     "text": [
      "Epoch 7: {'accuracy': 0.8700980392156863, 'f1': 0.9020332717190388}\n"
     ]
    },
    {
     "name": "stderr",
     "output_type": "stream",
     "text": [
      "100%|██████████| 115/115 [01:01<00:00,  1.87it/s]\n",
      "100%|██████████| 13/13 [00:03<00:00,  3.85it/s]\n"
     ]
    },
    {
     "name": "stdout",
     "output_type": "stream",
     "text": [
      "Epoch 8: {'accuracy': 0.875, 'f1': 0.9050279329608939}\n"
     ]
    },
    {
     "name": "stderr",
     "output_type": "stream",
     "text": [
      "100%|██████████| 115/115 [01:01<00:00,  1.88it/s]\n",
      "100%|██████████| 13/13 [00:03<00:00,  3.80it/s]\n"
     ]
    },
    {
     "name": "stdout",
     "output_type": "stream",
     "text": [
      "Epoch 9: {'accuracy': 0.8799019607843137, 'f1': 0.9080675422138836}\n"
     ]
    },
    {
     "name": "stderr",
     "output_type": "stream",
     "text": [
      "100%|██████████| 115/115 [01:01<00:00,  1.86it/s]\n",
      "100%|██████████| 13/13 [00:03<00:00,  3.86it/s]\n"
     ]
    },
    {
     "name": "stdout",
     "output_type": "stream",
     "text": [
      "Epoch 10: {'accuracy': 0.8602941176470589, 'f1': 0.896551724137931}\n"
     ]
    },
    {
     "name": "stderr",
     "output_type": "stream",
     "text": [
      "Some weights of RobertaForSequenceClassification were not initialized from the model checkpoint at roberta-large and are newly initialized: ['classifier.dense.bias', 'classifier.dense.weight', 'classifier.out_proj.bias', 'classifier.out_proj.weight']\n",
      "You should probably TRAIN this model on a down-stream task to be able to use it for predictions and inference.\n"
     ]
    },
    {
     "name": "stdout",
     "output_type": "stream",
     "text": [
      "trainable params: 2,299,908 || all params: 356,610,052 || trainable%: 0.6449363911929212\n"
     ]
    },
    {
     "name": "stderr",
     "output_type": "stream",
     "text": [
      "100%|██████████| 115/115 [00:58<00:00,  1.97it/s]\n",
      "100%|██████████| 13/13 [00:03<00:00,  3.96it/s]\n"
     ]
    },
    {
     "name": "stdout",
     "output_type": "stream",
     "text": [
      "Epoch 1: {'accuracy': 0.696078431372549, 'f1': 0.8165680473372781}\n"
     ]
    },
    {
     "name": "stderr",
     "output_type": "stream",
     "text": [
      "100%|██████████| 115/115 [01:00<00:00,  1.90it/s]\n",
      "100%|██████████| 13/13 [00:03<00:00,  3.92it/s]\n"
     ]
    },
    {
     "name": "stdout",
     "output_type": "stream",
     "text": [
      "Epoch 2: {'accuracy': 0.7794117647058824, 'f1': 0.8571428571428571}\n"
     ]
    },
    {
     "name": "stderr",
     "output_type": "stream",
     "text": [
      "100%|██████████| 115/115 [01:01<00:00,  1.88it/s]\n",
      "100%|██████████| 13/13 [00:03<00:00,  3.90it/s]\n"
     ]
    },
    {
     "name": "stdout",
     "output_type": "stream",
     "text": [
      "Epoch 3: {'accuracy': 0.7941176470588235, 'f1': 0.864516129032258}\n"
     ]
    },
    {
     "name": "stderr",
     "output_type": "stream",
     "text": [
      "100%|██████████| 115/115 [01:00<00:00,  1.89it/s]\n",
      "100%|██████████| 13/13 [00:03<00:00,  3.87it/s]\n"
     ]
    },
    {
     "name": "stdout",
     "output_type": "stream",
     "text": [
      "Epoch 4: {'accuracy': 0.8504901960784313, 'f1': 0.8953687821612349}\n"
     ]
    },
    {
     "name": "stderr",
     "output_type": "stream",
     "text": [
      "100%|██████████| 115/115 [01:01<00:00,  1.88it/s]\n",
      "100%|██████████| 13/13 [00:03<00:00,  3.87it/s]\n"
     ]
    },
    {
     "name": "stdout",
     "output_type": "stream",
     "text": [
      "Epoch 5: {'accuracy': 0.8553921568627451, 'f1': 0.8973913043478261}\n"
     ]
    },
    {
     "name": "stderr",
     "output_type": "stream",
     "text": [
      "100%|██████████| 115/115 [01:01<00:00,  1.88it/s]\n",
      "100%|██████████| 13/13 [00:03<00:00,  3.89it/s]\n"
     ]
    },
    {
     "name": "stdout",
     "output_type": "stream",
     "text": [
      "Epoch 6: {'accuracy': 0.8700980392156863, 'f1': 0.9071803852889667}\n"
     ]
    },
    {
     "name": "stderr",
     "output_type": "stream",
     "text": [
      "100%|██████████| 115/115 [01:01<00:00,  1.87it/s]\n",
      "100%|██████████| 13/13 [00:03<00:00,  3.89it/s]\n"
     ]
    },
    {
     "name": "stdout",
     "output_type": "stream",
     "text": [
      "Epoch 7: {'accuracy': 0.8799019607843137, 'f1': 0.9100917431192661}\n"
     ]
    },
    {
     "name": "stderr",
     "output_type": "stream",
     "text": [
      "100%|██████████| 115/115 [01:01<00:00,  1.87it/s]\n",
      "100%|██████████| 13/13 [00:03<00:00,  3.86it/s]\n"
     ]
    },
    {
     "name": "stdout",
     "output_type": "stream",
     "text": [
      "Epoch 8: {'accuracy': 0.8602941176470589, 'f1': 0.9008695652173913}\n"
     ]
    },
    {
     "name": "stderr",
     "output_type": "stream",
     "text": [
      "100%|██████████| 115/115 [01:01<00:00,  1.87it/s]\n",
      "100%|██████████| 13/13 [00:03<00:00,  3.87it/s]\n"
     ]
    },
    {
     "name": "stdout",
     "output_type": "stream",
     "text": [
      "Epoch 9: {'accuracy': 0.875, 'f1': 0.9074410163339383}\n"
     ]
    },
    {
     "name": "stderr",
     "output_type": "stream",
     "text": [
      "100%|██████████| 115/115 [01:01<00:00,  1.87it/s]\n",
      "100%|██████████| 13/13 [00:03<00:00,  3.86it/s]\n"
     ]
    },
    {
     "name": "stdout",
     "output_type": "stream",
     "text": [
      "Epoch 10: {'accuracy': 0.8700980392156863, 'f1': 0.9055258467023173}\n"
     ]
    },
    {
     "name": "stderr",
     "output_type": "stream",
     "text": [
      "Some weights of RobertaForSequenceClassification were not initialized from the model checkpoint at roberta-large and are newly initialized: ['classifier.dense.bias', 'classifier.dense.weight', 'classifier.out_proj.bias', 'classifier.out_proj.weight']\n",
      "You should probably TRAIN this model on a down-stream task to be able to use it for predictions and inference.\n"
     ]
    },
    {
     "name": "stdout",
     "output_type": "stream",
     "text": [
      "trainable params: 2,299,908 || all params: 356,610,052 || trainable%: 0.6449363911929212\n"
     ]
    },
    {
     "name": "stderr",
     "output_type": "stream",
     "text": [
      "100%|██████████| 115/115 [00:58<00:00,  1.95it/s]\n",
      "100%|██████████| 13/13 [00:03<00:00,  3.97it/s]\n"
     ]
    },
    {
     "name": "stdout",
     "output_type": "stream",
     "text": [
      "Epoch 1: {'accuracy': 0.6838235294117647, 'f1': 0.8122270742358079}\n"
     ]
    },
    {
     "name": "stderr",
     "output_type": "stream",
     "text": [
      "100%|██████████| 115/115 [01:00<00:00,  1.90it/s]\n",
      "100%|██████████| 13/13 [00:03<00:00,  3.93it/s]\n"
     ]
    },
    {
     "name": "stdout",
     "output_type": "stream",
     "text": [
      "Epoch 2: {'accuracy': 0.7475490196078431, 'f1': 0.8377952755905512}\n"
     ]
    },
    {
     "name": "stderr",
     "output_type": "stream",
     "text": [
      "100%|██████████| 115/115 [01:00<00:00,  1.89it/s]\n",
      "100%|██████████| 13/13 [00:03<00:00,  3.89it/s]\n"
     ]
    },
    {
     "name": "stdout",
     "output_type": "stream",
     "text": [
      "Epoch 3: {'accuracy': 0.8137254901960784, 'f1': 0.8618181818181818}\n"
     ]
    },
    {
     "name": "stderr",
     "output_type": "stream",
     "text": [
      "100%|██████████| 115/115 [01:00<00:00,  1.89it/s]\n",
      "100%|██████████| 13/13 [00:03<00:00,  3.89it/s]\n"
     ]
    },
    {
     "name": "stdout",
     "output_type": "stream",
     "text": [
      "Epoch 4: {'accuracy': 0.8725490196078431, 'f1': 0.9064748201438849}\n"
     ]
    },
    {
     "name": "stderr",
     "output_type": "stream",
     "text": [
      "100%|██████████| 115/115 [01:00<00:00,  1.89it/s]\n",
      "100%|██████████| 13/13 [00:03<00:00,  3.90it/s]\n"
     ]
    },
    {
     "name": "stdout",
     "output_type": "stream",
     "text": [
      "Epoch 5: {'accuracy': 0.8651960784313726, 'f1': 0.8968105065666041}\n"
     ]
    },
    {
     "name": "stderr",
     "output_type": "stream",
     "text": [
      "100%|██████████| 115/115 [01:00<00:00,  1.89it/s]\n",
      "100%|██████████| 13/13 [00:03<00:00,  3.88it/s]\n"
     ]
    },
    {
     "name": "stdout",
     "output_type": "stream",
     "text": [
      "Epoch 6: {'accuracy': 0.8897058823529411, 'f1': 0.918625678119349}\n"
     ]
    },
    {
     "name": "stderr",
     "output_type": "stream",
     "text": [
      "100%|██████████| 115/115 [01:01<00:00,  1.88it/s]\n",
      "100%|██████████| 13/13 [00:03<00:00,  3.87it/s]\n"
     ]
    },
    {
     "name": "stdout",
     "output_type": "stream",
     "text": [
      "Epoch 7: {'accuracy': 0.8970588235294118, 'f1': 0.9247311827956989}\n"
     ]
    },
    {
     "name": "stderr",
     "output_type": "stream",
     "text": [
      "100%|██████████| 115/115 [01:01<00:00,  1.88it/s]\n",
      "100%|██████████| 13/13 [00:03<00:00,  3.87it/s]\n"
     ]
    },
    {
     "name": "stdout",
     "output_type": "stream",
     "text": [
      "Epoch 8: {'accuracy': 0.8995098039215687, 'f1': 0.925589836660617}\n"
     ]
    },
    {
     "name": "stderr",
     "output_type": "stream",
     "text": [
      "100%|██████████| 115/115 [01:01<00:00,  1.88it/s]\n",
      "100%|██████████| 13/13 [00:03<00:00,  3.88it/s]\n"
     ]
    },
    {
     "name": "stdout",
     "output_type": "stream",
     "text": [
      "Epoch 9: {'accuracy': 0.8872549019607843, 'f1': 0.9187279151943463}\n"
     ]
    },
    {
     "name": "stderr",
     "output_type": "stream",
     "text": [
      "100%|██████████| 115/115 [01:01<00:00,  1.87it/s]\n",
      "100%|██████████| 13/13 [00:03<00:00,  3.84it/s]\n"
     ]
    },
    {
     "name": "stdout",
     "output_type": "stream",
     "text": [
      "Epoch 10: {'accuracy': 0.8848039215686274, 'f1': 0.91651865008881}\n"
     ]
    },
    {
     "name": "stderr",
     "output_type": "stream",
     "text": [
      "Some weights of RobertaForSequenceClassification were not initialized from the model checkpoint at roberta-large and are newly initialized: ['classifier.dense.bias', 'classifier.dense.weight', 'classifier.out_proj.bias', 'classifier.out_proj.weight']\n",
      "You should probably TRAIN this model on a down-stream task to be able to use it for predictions and inference.\n"
     ]
    },
    {
     "name": "stdout",
     "output_type": "stream",
     "text": [
      "trainable params: 2,299,908 || all params: 356,610,052 || trainable%: 0.6449363911929212\n"
     ]
    },
    {
     "name": "stderr",
     "output_type": "stream",
     "text": [
      "100%|██████████| 115/115 [00:58<00:00,  1.98it/s]\n",
      "100%|██████████| 13/13 [00:03<00:00,  4.07it/s]\n"
     ]
    },
    {
     "name": "stdout",
     "output_type": "stream",
     "text": [
      "Epoch 1: {'accuracy': 0.7132352941176471, 'f1': 0.8245877061469266}\n"
     ]
    },
    {
     "name": "stderr",
     "output_type": "stream",
     "text": [
      "100%|██████████| 115/115 [01:00<00:00,  1.90it/s]\n",
      "100%|██████████| 13/13 [00:03<00:00,  3.87it/s]\n"
     ]
    },
    {
     "name": "stdout",
     "output_type": "stream",
     "text": [
      "Epoch 2: {'accuracy': 0.7671568627450981, 'f1': 0.848966613672496}\n"
     ]
    },
    {
     "name": "stderr",
     "output_type": "stream",
     "text": [
      "100%|██████████| 115/115 [01:01<00:00,  1.87it/s]\n",
      "100%|██████████| 13/13 [00:03<00:00,  3.90it/s]\n"
     ]
    },
    {
     "name": "stdout",
     "output_type": "stream",
     "text": [
      "Epoch 3: {'accuracy': 0.7818627450980392, 'f1': 0.8571428571428571}\n"
     ]
    },
    {
     "name": "stderr",
     "output_type": "stream",
     "text": [
      "100%|██████████| 115/115 [01:01<00:00,  1.87it/s]\n",
      "100%|██████████| 13/13 [00:03<00:00,  3.81it/s]\n"
     ]
    },
    {
     "name": "stdout",
     "output_type": "stream",
     "text": [
      "Epoch 4: {'accuracy': 0.7843137254901961, 'f1': 0.819672131147541}\n"
     ]
    },
    {
     "name": "stderr",
     "output_type": "stream",
     "text": [
      "100%|██████████| 115/115 [01:01<00:00,  1.86it/s]\n",
      "100%|██████████| 13/13 [00:03<00:00,  3.84it/s]\n"
     ]
    },
    {
     "name": "stdout",
     "output_type": "stream",
     "text": [
      "Epoch 5: {'accuracy': 0.8504901960784313, 'f1': 0.8953687821612349}\n"
     ]
    },
    {
     "name": "stderr",
     "output_type": "stream",
     "text": [
      "100%|██████████| 115/115 [01:02<00:00,  1.85it/s]\n",
      "100%|██████████| 13/13 [00:03<00:00,  3.83it/s]\n"
     ]
    },
    {
     "name": "stdout",
     "output_type": "stream",
     "text": [
      "Epoch 6: {'accuracy': 0.875, 'f1': 0.9087656529516994}\n"
     ]
    },
    {
     "name": "stderr",
     "output_type": "stream",
     "text": [
      "100%|██████████| 115/115 [01:01<00:00,  1.87it/s]\n",
      "100%|██████████| 13/13 [00:03<00:00,  3.79it/s]\n"
     ]
    },
    {
     "name": "stdout",
     "output_type": "stream",
     "text": [
      "Epoch 7: {'accuracy': 0.8799019607843137, 'f1': 0.9123434704830053}\n"
     ]
    },
    {
     "name": "stderr",
     "output_type": "stream",
     "text": [
      "100%|██████████| 115/115 [01:01<00:00,  1.87it/s]\n",
      "100%|██████████| 13/13 [00:03<00:00,  3.77it/s]\n"
     ]
    },
    {
     "name": "stdout",
     "output_type": "stream",
     "text": [
      "Epoch 8: {'accuracy': 0.8774509803921569, 'f1': 0.9100719424460432}\n"
     ]
    },
    {
     "name": "stderr",
     "output_type": "stream",
     "text": [
      "100%|██████████| 115/115 [01:02<00:00,  1.84it/s]\n",
      "100%|██████████| 13/13 [00:03<00:00,  3.80it/s]\n"
     ]
    },
    {
     "name": "stdout",
     "output_type": "stream",
     "text": [
      "Epoch 9: {'accuracy': 0.875, 'f1': 0.9074410163339383}\n"
     ]
    },
    {
     "name": "stderr",
     "output_type": "stream",
     "text": [
      "100%|██████████| 115/115 [01:02<00:00,  1.84it/s]\n",
      "100%|██████████| 13/13 [00:03<00:00,  3.79it/s]\n"
     ]
    },
    {
     "name": "stdout",
     "output_type": "stream",
     "text": [
      "Epoch 10: {'accuracy': 0.8774509803921569, 'f1': 0.9100719424460432}\n"
     ]
    },
    {
     "name": "stderr",
     "output_type": "stream",
     "text": [
      "Some weights of RobertaForSequenceClassification were not initialized from the model checkpoint at roberta-large and are newly initialized: ['classifier.dense.bias', 'classifier.dense.weight', 'classifier.out_proj.bias', 'classifier.out_proj.weight']\n",
      "You should probably TRAIN this model on a down-stream task to be able to use it for predictions and inference.\n"
     ]
    },
    {
     "name": "stdout",
     "output_type": "stream",
     "text": [
      "trainable params: 2,299,908 || all params: 356,610,052 || trainable%: 0.6449363911929212\n"
     ]
    },
    {
     "name": "stderr",
     "output_type": "stream",
     "text": [
      "100%|██████████| 115/115 [00:58<00:00,  1.97it/s]\n",
      "100%|██████████| 13/13 [00:03<00:00,  3.91it/s]\n"
     ]
    },
    {
     "name": "stdout",
     "output_type": "stream",
     "text": [
      "Epoch 1: {'accuracy': 0.6936274509803921, 'f1': 0.8169838945827232}\n"
     ]
    },
    {
     "name": "stderr",
     "output_type": "stream",
     "text": [
      "100%|██████████| 115/115 [00:59<00:00,  1.92it/s]\n",
      "100%|██████████| 13/13 [00:03<00:00,  3.89it/s]\n"
     ]
    },
    {
     "name": "stdout",
     "output_type": "stream",
     "text": [
      "Epoch 2: {'accuracy': 0.7230392156862745, 'f1': 0.8242612752721618}\n"
     ]
    },
    {
     "name": "stderr",
     "output_type": "stream",
     "text": [
      "100%|██████████| 115/115 [01:00<00:00,  1.91it/s]\n",
      "100%|██████████| 13/13 [00:03<00:00,  3.93it/s]\n"
     ]
    },
    {
     "name": "stdout",
     "output_type": "stream",
     "text": [
      "Epoch 3: {'accuracy': 0.8186274509803921, 'f1': 0.8766666666666667}\n"
     ]
    },
    {
     "name": "stderr",
     "output_type": "stream",
     "text": [
      "100%|██████████| 115/115 [01:00<00:00,  1.90it/s]\n",
      "100%|██████████| 13/13 [00:03<00:00,  3.89it/s]\n"
     ]
    },
    {
     "name": "stdout",
     "output_type": "stream",
     "text": [
      "Epoch 4: {'accuracy': 0.8480392156862745, 'f1': 0.8856088560885609}\n"
     ]
    },
    {
     "name": "stderr",
     "output_type": "stream",
     "text": [
      "100%|██████████| 115/115 [01:01<00:00,  1.87it/s]\n",
      "100%|██████████| 13/13 [00:03<00:00,  3.83it/s]\n"
     ]
    },
    {
     "name": "stdout",
     "output_type": "stream",
     "text": [
      "Epoch 5: {'accuracy': 0.8480392156862745, 'f1': 0.8949152542372881}\n"
     ]
    },
    {
     "name": "stderr",
     "output_type": "stream",
     "text": [
      "100%|██████████| 115/115 [01:02<00:00,  1.85it/s]\n",
      "100%|██████████| 13/13 [00:03<00:00,  3.85it/s]\n"
     ]
    },
    {
     "name": "stdout",
     "output_type": "stream",
     "text": [
      "Epoch 6: {'accuracy': 0.8700980392156863, 'f1': 0.9068541300527241}\n"
     ]
    },
    {
     "name": "stderr",
     "output_type": "stream",
     "text": [
      "100%|██████████| 115/115 [01:02<00:00,  1.84it/s]\n",
      "100%|██████████| 13/13 [00:03<00:00,  3.84it/s]\n"
     ]
    },
    {
     "name": "stdout",
     "output_type": "stream",
     "text": [
      "Epoch 7: {'accuracy': 0.8578431372549019, 'f1': 0.9003436426116839}\n"
     ]
    },
    {
     "name": "stderr",
     "output_type": "stream",
     "text": [
      "100%|██████████| 115/115 [01:02<00:00,  1.84it/s]\n",
      "100%|██████████| 13/13 [00:03<00:00,  3.85it/s]\n"
     ]
    },
    {
     "name": "stdout",
     "output_type": "stream",
     "text": [
      "Epoch 8: {'accuracy': 0.8676470588235294, 'f1': 0.90625}\n"
     ]
    },
    {
     "name": "stderr",
     "output_type": "stream",
     "text": [
      "100%|██████████| 115/115 [01:02<00:00,  1.84it/s]\n",
      "100%|██████████| 13/13 [00:03<00:00,  3.79it/s]\n"
     ]
    },
    {
     "name": "stdout",
     "output_type": "stream",
     "text": [
      "Epoch 9: {'accuracy': 0.8823529411764706, 'f1': 0.9142857142857143}\n"
     ]
    },
    {
     "name": "stderr",
     "output_type": "stream",
     "text": [
      "100%|██████████| 115/115 [01:02<00:00,  1.84it/s]\n",
      "100%|██████████| 13/13 [00:03<00:00,  3.84it/s]"
     ]
    },
    {
     "name": "stdout",
     "output_type": "stream",
     "text": [
      "Epoch 10: {'accuracy': 0.8799019607843137, 'f1': 0.9126559714795008}\n"
     ]
    },
    {
     "name": "stderr",
     "output_type": "stream",
     "text": [
      "\n"
     ]
    }
   ],
   "source": [
    "for method, data_loader in data_loaders.items():\n",
    "    for _ in range(NUM_RUNS):\n",
    "        filtered_lora_engine = LORAEngine(model_name_or_path=model_name_or_path,\n",
    "                                target_modules=target_modules,\n",
    "                                train_dataloader=data_loader,\n",
    "                                eval_dataloader=eval_dataloader,\n",
    "                                device=device,\n",
    "                                num_epochs=num_epochs,\n",
    "                                lr=lr,\n",
    "                                low_rank=low_rank, \n",
    "                                task=task)\n",
    "        filtered_lora_engine.build_LORA_model()\n",
    "        results = filtered_lora_engine.train_LORA_model()    \n",
    "        results_dict[method].append(results)"
   ]
  },
  {
   "cell_type": "markdown",
   "metadata": {},
   "source": [
    "## Visualization"
   ]
  },
  {
   "cell_type": "code",
   "execution_count": null,
   "metadata": {},
   "outputs": [],
   "source": [
    "import numpy as np\n",
    "import scipy.stats as stats\n",
    "\n",
    "def confidence_interval(data, confidence=0.95):\n",
    "    # Convert the list to a numpy array for easier mathematical operations\n",
    "    data = np.array(data)\n",
    "    \n",
    "    # Calculate the mean\n",
    "    mean = np.mean(data)\n",
    "    \n",
    "    # Calculate the standard error\n",
    "    sem = stats.sem(data)\n",
    "    \n",
    "    # Get the t-score for the 95% confidence level with degrees of freedom (n-1)\n",
    "    t_score = stats.t.ppf((1 + confidence) / 2., len(data) - 1)\n",
    "    \n",
    "    # Calculate the margin of error\n",
    "    margin_of_error = t_score * sem\n",
    "    \n",
    "    # Calculate the confidence interval\n",
    "    lower_bound = mean - margin_of_error\n",
    "    upper_bound = mean + margin_of_error\n",
    "    \n",
    "    return lower_bound, upper_bound"
   ]
  },
  {
   "cell_type": "code",
   "execution_count": 25,
   "metadata": {},
   "outputs": [
    {
     "data": {
      "image/png": "[encoded data removed]",
      "text/plain": [
       "<Figure size 640x480 with 1 Axes>"
      ]
     },
     "metadata": {},
     "output_type": "display_data"
    }
   ],
   "source": [
    "for method, results in results_dict.items():\n",
    "    results = np.array(results).T\n",
    "    mean = np.mean(results, axis=1)\n",
    "    # print(mean)\n",
    "    lower_bound = [confidence_interval(i)[0] for i in results]\n",
    "    upper_bound = [confidence_interval(i)[1] for i in results]\n",
    "    epochs = range(1, len(mean) + 1)\n",
    "    \n",
    "    plt.plot(epochs, mean, label=f'{display_names[method]}', linestyle='-', marker='o')\n",
    "    \n",
    "    # Fill between the upper and lower bounds to show the confidence interval\n",
    "    plt.fill_between(epochs, lower_bound, upper_bound, alpha=0.2)\n",
    "\n",
    "plt.xlabel('Epoch')\n",
    "plt.ylabel('Value')\n",
    "plt.title(f'Effect of data selection on {task} training.')\n",
    "plt.legend(loc='best')\n",
    "plt.savefig(f\"{task}_plot.png\")"
   ]
  },
  {
   "cell_type": "code",
   "execution_count": null,
   "metadata": {},
   "outputs": [],
   "source": []
  }
 ],
 "metadata": {
  "kernelspec": {
   "display_name": ".env",
   "language": "python",
   "name": "python3"
  },
  "language_info": {
   "codemirror_mode": {
    "name": "ipython",
    "version": 3
   },
   "file_extension": ".py",
   "mimetype": "text/x-python",
   "name": "python",
   "nbconvert_exporter": "python",
   "pygments_lexer": "ipython3",
   "version": "3.10.11"
  }
 },
 "nbformat": 4,
 "nbformat_minor": 2
}
